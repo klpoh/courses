{
 "cells": [
  {
   "cell_type": "code",
   "execution_count": 1,
   "id": "398acc0b-d117-4dcb-b8e3-2a970f007fac",
   "metadata": {},
   "outputs": [],
   "source": [
    "# XYZ_company.ipynb\n",
    "\"\"\" XYZ Company Problem \"\"\"\n",
    "import numpy_financial as npf"
   ]
  },
  {
   "cell_type": "code",
   "execution_count": 2,
   "id": "e98efa01-a342-4a7f-bc95-3ac8121a324c",
   "metadata": {},
   "outputs": [],
   "source": [
    "I = -12000\n",
    "A = 5310 - 3000\n",
    "SV = 2000\n",
    "N = 5\n",
    "marr = 0.1"
   ]
  },
  {
   "cell_type": "code",
   "execution_count": 3,
   "id": "80cbfd0f-4feb-4926-9b03-f683436df9d4",
   "metadata": {},
   "outputs": [
    {
     "name": "stdout",
     "output_type": "stream",
     "text": [
      "NPV = -2,001.44\n"
     ]
    }
   ],
   "source": [
    "# Using pv function to compute NPV\n",
    "NPV = I - npf.pv(marr, N, A, SV)\n",
    "print(f\"NPV = {NPV:,.2f}\")"
   ]
  },
  {
   "cell_type": "code",
   "execution_count": 4,
   "id": "2581665a-d3a0-4cad-94cb-520f1b23ced5",
   "metadata": {},
   "outputs": [
    {
     "name": "stdout",
     "output_type": "stream",
     "text": [
      "Cash flows = [-12000, 2310, 2310, 2310, 2310, 4310]\n",
      "NPV = -2,001.44\n"
     ]
    }
   ],
   "source": [
    "# Using npv function to compute NPV\n",
    "CF = [I, A, A, A, A, A+SV]\n",
    "NPV = npf.npv(marr, CF)\n",
    "print(f\"Cash flows = {CF}\")\n",
    "print(f\"NPV = {NPV:,.2f}\")"
   ]
  },
  {
   "cell_type": "code",
   "execution_count": 5,
   "id": "c9616597-6fca-456e-b131-6bf064245beb",
   "metadata": {},
   "outputs": [
    {
     "name": "stdout",
     "output_type": "stream",
     "text": [
      "IRR = 0.038040\n"
     ]
    }
   ],
   "source": [
    "# Using rate function to compute IRR\n",
    "IRR = npf.rate(N, A, I, SV, guess=0.1)\n",
    "print(f\"IRR = {IRR:.6f}\")"
   ]
  },
  {
   "cell_type": "code",
   "execution_count": 6,
   "id": "75ae5690-5bf0-4ccd-b1ca-42bcb85fa1c7",
   "metadata": {},
   "outputs": [
    {
     "name": "stdout",
     "output_type": "stream",
     "text": [
      "IRR = 0.038040\n"
     ]
    }
   ],
   "source": [
    "# Using irr function to compute IRR\n",
    "IRR = npf.irr(CF)\n",
    "print(f\"IRR = {IRR:.6f}\")"
   ]
  },
  {
   "cell_type": "code",
   "execution_count": null,
   "id": "d9c1be25-086c-4b78-9763-0bb798a9ca34",
   "metadata": {},
   "outputs": [],
   "source": []
  }
 ],
 "metadata": {
  "kernelspec": {
   "display_name": "Python 3 (ipykernel)",
   "language": "python",
   "name": "python3"
  },
  "language_info": {
   "codemirror_mode": {
    "name": "ipython",
    "version": 3
   },
   "file_extension": ".py",
   "mimetype": "text/x-python",
   "name": "python",
   "nbconvert_exporter": "python",
   "pygments_lexer": "ipython3",
   "version": "3.11.7"
  }
 },
 "nbformat": 4,
 "nbformat_minor": 5
}

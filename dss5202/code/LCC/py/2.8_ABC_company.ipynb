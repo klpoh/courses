{
 "cells": [
  {
   "cell_type": "code",
   "execution_count": 1,
   "id": "1a8f3bf0-adb6-4cdc-b620-a884a18dc60f",
   "metadata": {},
   "outputs": [],
   "source": [
    "# ABC_company.ipynb\n",
    "\"\"\" ABC Company Problem \"\"\"\n",
    "import numpy_financial as npf"
   ]
  },
  {
   "cell_type": "code",
   "execution_count": 2,
   "id": "fd0d3df7-6323-4aa9-9fc7-213a015de975",
   "metadata": {},
   "outputs": [],
   "source": [
    "I = -25000\n",
    "A = 8000\n",
    "SV = 5000\n",
    "N = 5\n",
    "marr=0.2"
   ]
  },
  {
   "cell_type": "code",
   "execution_count": 3,
   "id": "9bd6cbc5-2343-476c-852d-3fff5c3f03fb",
   "metadata": {},
   "outputs": [
    {
     "name": "stdout",
     "output_type": "stream",
     "text": [
      "NPV = 934.28\n"
     ]
    }
   ],
   "source": [
    "# Using pv function to compute NPV\n",
    "NPV = I - npf.pv(marr, N, A, SV)\n",
    "print(f\"NPV = {NPV:,.2f}\")"
   ]
  },
  {
   "cell_type": "code",
   "execution_count": 4,
   "id": "e015dbb3-bef2-488a-846d-e496855a3912",
   "metadata": {},
   "outputs": [
    {
     "name": "stdout",
     "output_type": "stream",
     "text": [
      "Cash flows = [-25000, 8000, 8000, 8000, 8000, 13000]\n",
      "NPV = 934.28\n"
     ]
    }
   ],
   "source": [
    "# Using npv function to compute NPV\n",
    "CF = [I, A, A, A, A, A+SV]\n",
    "NPV = npf.npv(marr, CF)\n",
    "print(f\"Cash flows = {CF}\")\n",
    "print(f\"NPV = {NPV:,.2f}\")"
   ]
  },
  {
   "cell_type": "code",
   "execution_count": 5,
   "id": "6cb5c390-41d2-4b55-9cf5-d452353260cb",
   "metadata": {},
   "outputs": [
    {
     "name": "stdout",
     "output_type": "stream",
     "text": [
      "IRR = 0.215776\n"
     ]
    }
   ],
   "source": [
    "# Using rate function to compute IRR\n",
    "IRR = npf.rate(N, A, I, SV, guess=0.1)\n",
    "print(f\"IRR = {IRR:.6f}\")"
   ]
  },
  {
   "cell_type": "code",
   "execution_count": 6,
   "id": "05206092-779e-44f7-807d-ea3b92d7c17b",
   "metadata": {},
   "outputs": [
    {
     "name": "stdout",
     "output_type": "stream",
     "text": [
      "IRR = 0.215776\n"
     ]
    }
   ],
   "source": [
    "# Using irr function to compute IRR\n",
    "IRR = npf.irr(CF)\n",
    "print(f\"IRR = {IRR:.6f}\")"
   ]
  },
  {
   "cell_type": "code",
   "execution_count": 7,
   "id": "69a37b7d-e9b6-4528-a82a-aaa1ae00211a",
   "metadata": {},
   "outputs": [
    {
     "name": "stdout",
     "output_type": "stream",
     "text": [
      "MIRR = 0.208838\n"
     ]
    }
   ],
   "source": [
    "# Using mirr function to compute MIRR\n",
    "fin_rate = 0.15\n",
    "reinvest_rate = 0.20\n",
    "MIRR = npf.mirr(CF, fin_rate, reinvest_rate)\n",
    "print(f\"MIRR = {MIRR:.6f}\")"
   ]
  },
  {
   "cell_type": "code",
   "execution_count": null,
   "id": "1e2b2f52-32ae-4f46-9a23-b70d299dc7b7",
   "metadata": {},
   "outputs": [],
   "source": []
  }
 ],
 "metadata": {
  "kernelspec": {
   "display_name": "Python 3 (ipykernel)",
   "language": "python",
   "name": "python3"
  },
  "language_info": {
   "codemirror_mode": {
    "name": "ipython",
    "version": 3
   },
   "file_extension": ".py",
   "mimetype": "text/x-python",
   "name": "python",
   "nbconvert_exporter": "python",
   "pygments_lexer": "ipython3",
   "version": "3.11.7"
  }
 },
 "nbformat": 4,
 "nbformat_minor": 5
}

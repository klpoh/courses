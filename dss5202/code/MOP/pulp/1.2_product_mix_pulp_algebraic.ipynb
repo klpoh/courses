{
 "cells": [
  {
   "cell_type": "code",
   "execution_count": null,
   "id": "0c993cda-06c9-4e6f-ad46-e6642c7b8513",
   "metadata": {},
   "outputs": [],
   "source": [
    "# 1.2_product_mix_pulp_algebraic.ipynb\n",
    "import pulp\n",
    "\"\"\" Product Mix Problem PuLP in Algebraic Format (2024 10 12) \"\"\"\n",
    "\n",
    "## Model\n",
    "m = pulp.LpProblem(\"Product_Mix\", pulp.LpMaximize)\n",
    "\n",
    "## Sets or Indices\n",
    "Products = ['door','window']\n",
    "Plants = ['plant_1','plant_2','plant_3']\n",
    "\n",
    "# Data (can be read from Excel file)\n",
    "Plant_cap = [4, 12, 18]\n",
    "TechCoeff = [[1, 0], [0, 2], [3, 2]]\n",
    "Profit = [3, 5]\n",
    "\n",
    "## Parameters\n",
    "# Resource capacities\n",
    "b = {plant : cap for plant, cap in zip(Plants, Plant_cap) }\n",
    "A = {(plant, prod) : TechCoeff[i][j] \n",
    "     for i, plant in enumerate(Plants)\n",
    "         for j, prod in enumerate(Products) }\n",
    "c = {prod: profit for prod, profit in zip(Products, Profit)}"
   ]
  },
  {
   "cell_type": "code",
   "execution_count": null,
   "id": "5fd0f0c5-6245-4acd-ad6d-472130a7cea2",
   "metadata": {},
   "outputs": [],
   "source": [
    "## Model\n",
    "m = pulp.LpProblem(\"Product_mix\", pulp.LpMaximize)\n",
    "\n",
    "## Decision Variables\n",
    "x = { p : pulp.LpVariable(f'x({p})', lowBound=0, upBound=None, \n",
    "    cat=pulp.LpContinuous) for p in Products }\n",
    "\n",
    "# Objective function\n",
    "m += pulp.lpSum(c[p]*x[p] for p in Products),'Profit'\n",
    "\n",
    "## Constraints\n",
    "for r in Plants:\n",
    "    m += pulp.lpSum(A[r,p]*x[p] for p in Products) <= b[r], f'Capacity({r})'"
   ]
  },
  {
   "cell_type": "code",
   "execution_count": null,
   "id": "a6e3365e-b29b-4719-82b8-26311fdb79c1",
   "metadata": {},
   "outputs": [],
   "source": [
    "# Save model for inspection/debugging\n",
    "# m.writeLP('product_mix.lp')\n",
    "\n",
    "# List of available solvers: pulp.listSolvers(True)\n",
    "# solver = pulp.GUROBI(msg=False)\n",
    "solver = pulp.GUROBI_CMD(msg=False)\n",
    "# solver = pulp.GLPK_CMD(msg=True)\n",
    "# solver = pulp.CPLEX_CMD(msg=True)\n",
    "# solver = pulp.CPLEX_PY(msg=False)\n",
    "# solver = pulp.PULP_CBC_CMD(msg=True)\n",
    "\n",
    "# Solve the model\n",
    "# m.solve()\n",
    "m.solve(solver)\n",
    "\n",
    "if pulp.LpStatus[m.status] == 'Optimal':\n",
    "    print(f\"Status: {pulp.LpStatus[m.status]}\")\n",
    "    print(f\"Objective values = {m.objective.value():,.2f}\")\n",
    "    for v in m.variables():\n",
    "        print(f\"{v.name} = {v.varValue:.2f}\")"
   ]
  },
  {
   "cell_type": "code",
   "execution_count": null,
   "id": "8bfa9808-ef2a-477f-9d2a-58bec3f82e3b",
   "metadata": {},
   "outputs": [],
   "source": []
  }
 ],
 "metadata": {
  "kernelspec": {
   "display_name": "Python 3 (ipykernel)",
   "language": "python",
   "name": "python3"
  },
  "language_info": {
   "codemirror_mode": {
    "name": "ipython",
    "version": 3
   },
   "file_extension": ".py",
   "mimetype": "text/x-python",
   "name": "python",
   "nbconvert_exporter": "python",
   "pygments_lexer": "ipython3",
   "version": "3.11.7"
  }
 },
 "nbformat": 4,
 "nbformat_minor": 5
}

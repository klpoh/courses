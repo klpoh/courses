{
 "cells": [
  {
   "cell_type": "code",
   "execution_count": null,
   "id": "aa3178c4-e605-46bc-ab66-8b1e73920d12",
   "metadata": {},
   "outputs": [],
   "source": [
    "# 1.4_knapsack_problem_pulp.ipynb\n",
    "import pulp\n",
    "\"\"\" Knapsack Problem Pulp (2024 10 12) \"\"\"\n",
    "\n",
    "# Sets or Indices\n",
    "Items = ['I1','I2','I3','I4','I5', 'I6', 'I7', 'I8']\n",
    "\n",
    "# Data\n",
    "Volumes = [1, 3, 4, 3, 3, 1, 5, 10 ]\n",
    "Values =  [2, 9, 3, 8, 10, 6, 4, 10 ]\n",
    "Cap = 15\n",
    "\n",
    "## Parameters.\n",
    "vol = {i: vo  for i, vo  in zip(Items, Volumes)}\n",
    "val = {i: va  for i, va  in zip(Items, Values)}"
   ]
  },
  {
   "cell_type": "code",
   "execution_count": null,
   "id": "82d72ed0-1eb3-4152-a6a0-21bdbc7f27e0",
   "metadata": {},
   "outputs": [],
   "source": [
    "## Model\n",
    "m = pulp.LpProblem(\"knapsack\", pulp.LpMaximize)\n",
    "\n",
    "## Decision Variables\n",
    "x = { i: pulp.LpVariable(f'x({i})', cat=pulp.LpBinary) for i in Items}\n",
    "\n",
    "# Objective function\n",
    "m += pulp.lpSum(val[i]*x[i] for i in Items),'total_value'\n",
    "\n",
    "## Constraints\n",
    "m += pulp.lpSum(vol[i]*x[i] for i in Items) <= Cap, 'capacity'\n",
    "\n",
    "# Save model for inspection/debugging\n",
    "# m.writeLP('TKP.lp')"
   ]
  },
  {
   "cell_type": "code",
   "execution_count": null,
   "id": "bcb90f6c-65c4-45ec-bb82-679868feefa7",
   "metadata": {},
   "outputs": [],
   "source": [
    "# Listof available solvers: pulp.listSolvers(True)\n",
    "# solver = pulp.GUROBI(msg=True)\n",
    "# solver = pulp.GUROBI_CMD(msg=False)\n",
    "# solver = pulp.GLPK_CMD(msg=False)\n",
    "# solver = pulp.CPLEX_CMD(msg=True)\n",
    "# solver = pulp.CPLEX_PY(msg=False)\n",
    "solver = pulp.PULP_CBC_CMD(msg=False)\n",
    "\n",
    "# Solve the model \n",
    "m.solve(solver)\n",
    "# m.solve()  # default to CBC\n",
    "\n",
    "if pulp.LpStatus[m.status] == 'Optimal':\n",
    "    print(\"\\nOptimal Solution:\")\n",
    "    print(f\"Obj values = {pulp.value(m.objective)}\")\n",
    "\n",
    "    for i in Items:\n",
    "        if x[i].varValue == 1:\n",
    "            print(f\"Pack item {i}\")"
   ]
  },
  {
   "cell_type": "code",
   "execution_count": null,
   "id": "f8b78902-97fd-4fa5-84ab-1962010d28b3",
   "metadata": {},
   "outputs": [],
   "source": []
  }
 ],
 "metadata": {
  "kernelspec": {
   "display_name": "Python 3 (ipykernel)",
   "language": "python",
   "name": "python3"
  },
  "language_info": {
   "codemirror_mode": {
    "name": "ipython",
    "version": 3
   },
   "file_extension": ".py",
   "mimetype": "text/x-python",
   "name": "python",
   "nbconvert_exporter": "python",
   "pygments_lexer": "ipython3",
   "version": "3.11.7"
  }
 },
 "nbformat": 4,
 "nbformat_minor": 5
}

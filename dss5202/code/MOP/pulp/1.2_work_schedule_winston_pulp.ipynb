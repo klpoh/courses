{
 "cells": [
  {
   "cell_type": "code",
   "execution_count": null,
   "id": "82c67a01-1ffc-4c10-b4fc-3b736a3fe6f2",
   "metadata": {},
   "outputs": [],
   "source": [
    "# 1.2_work_schedule_winston_pulp.ipynb\n",
    "import pulp\n",
    "\"\"\" Work force scheduling problem (Winston) PuLP (2024 10 12) \"\"\"\n",
    "\n",
    "# Sets or Indices\n",
    "# The days of the week\n",
    "Days =[ 'Mon', 'Tue', 'Wed', 'Thu', 'Fri', 'Sat', 'Sun']\n",
    "\n",
    "# Data\n",
    "# req_data[d] = number of worker required on day d\n",
    "req_data = [ 17, 13, 15, 19, 14, 16, 11 ]\n",
    "\n",
    "# cover_matrix[i,j] = 1 if start-on-day j is available on day i, =0 otherwise\n",
    "cover_matrix = [[1, 0, 0, 1, 1, 1, 1],\n",
    "                [1, 1, 0, 0, 1, 1, 1],\n",
    "                [1, 1, 1, 0, 0, 1, 1],\n",
    "                [1, 1, 1, 1, 0, 0, 1],\n",
    "                [1, 1, 1, 1, 1, 0, 0],\n",
    "                [0, 1, 1, 1, 1, 1, 0],\n",
    "                [0, 0, 1, 1, 1, 1, 1]]\n",
    "\n",
    "# Parameters Dictionaries\n",
    "req = { day : r for day, r in zip(Days, req_data) }\n",
    "cover = { (d1, d2) : cover_matrix[i][j] for i, d1 in enumerate(Days)\n",
    "           for j, d2 in enumerate(Days) }"
   ]
  },
  {
   "cell_type": "code",
   "execution_count": null,
   "id": "f1c8dc93-b6e2-44e0-81c0-27fc07419949",
   "metadata": {},
   "outputs": [],
   "source": [
    "## The MIP Model\n",
    "m = pulp.LpProblem(\"workforce_planning_problem\", pulp.LpMinimize)\n",
    "\n",
    "## Decision Variables\n",
    "# x[d] = number of workers starting work on day d\n",
    "x = { d : pulp.LpVariable(f'x({d})', lowBound=0, upBound=None, \n",
    "    cat=pulp.LpInteger) for d in Days }\n",
    "\n",
    "## Objective Function\n",
    "# Minimize the total number of workers employed\n",
    "m += pulp.lpSum(x[d] for d in Days), 'Num_employed'\n",
    "\n",
    "## Constraints\n",
    "# The total number of available for each day d must be covered\n",
    "\n",
    "for d in Days:\n",
    "    m += pulp.lpSum(cover[d,j]*x[j] for j in Days) >= req[d], f'Cover({d})'\n",
    "\n",
    "# Save model in LP format for inspection\n",
    "# m.writeLP('workforce_planning.lp')"
   ]
  },
  {
   "cell_type": "code",
   "execution_count": null,
   "id": "95b001de-5de7-4f76-83d3-654f712c1738",
   "metadata": {},
   "outputs": [],
   "source": [
    "# Listof available solvers: pulp.listSolvers(True)\n",
    "solver = pulp.GUROBI(msg=False)\n",
    "# solver = pulp.GUROBI_CMD((msg=False)\n",
    "# solver = pulp.GLPK_CMD(msg=True)\n",
    "# solver = pulp.CPLEX_CMD(msg=True)\n",
    "# solver = pulp.CPLEX_PY(msg=False)\n",
    "# solver = pulp.PULP_CBC_CMD((msg=False)\n",
    "\n",
    "# Solve the model \n",
    "m.solve(solver)\n",
    "\n",
    "if pulp.LpStatus[m.status] == 'Optimal':\n",
    "    print(f\"Objective values = {pulp.value(m.objective)}\")\n",
    "    print(\"Number of people starting on day:\")\n",
    "    for d in Days:\n",
    "        print(f\"  {d}: {x[d].varValue}\")\n"
   ]
  },
  {
   "cell_type": "code",
   "execution_count": null,
   "id": "55808fce-b688-4673-9c20-be31f38bf1e3",
   "metadata": {},
   "outputs": [],
   "source": []
  }
 ],
 "metadata": {
  "kernelspec": {
   "display_name": "Python 3 (ipykernel)",
   "language": "python",
   "name": "python3"
  },
  "language_info": {
   "codemirror_mode": {
    "name": "ipython",
    "version": 3
   },
   "file_extension": ".py",
   "mimetype": "text/x-python",
   "name": "python",
   "nbconvert_exporter": "python",
   "pygments_lexer": "ipython3",
   "version": "3.11.7"
  }
 },
 "nbformat": 4,
 "nbformat_minor": 5
}

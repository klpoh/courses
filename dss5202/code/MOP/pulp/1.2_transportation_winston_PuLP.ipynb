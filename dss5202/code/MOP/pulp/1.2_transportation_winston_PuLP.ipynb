{
 "cells": [
  {
   "cell_type": "code",
   "execution_count": null,
   "id": "93d4cd1f-d217-4940-a2a7-5763aacf4c1a",
   "metadata": {},
   "outputs": [],
   "source": [
    "# 1.2_transportation_winston_PuLP.ipynb\n",
    "import pulp\n",
    "\"\"\" Transportation problem Winston (2024 10 12) \"\"\"\n",
    "\n",
    "# Sets or Indices\n",
    "Plants = ['P1','P2','P3']\n",
    "Cities = ['C1','C2','C3','C4']\n",
    "\n",
    "## Data. They can be read from external file\n",
    "supply_data = [35, 50, 40]\n",
    "demand_data = [45, 20, 30, 30]\n",
    "cost_data  = [[8,  6, 10, 9],\n",
    "               [9, 12, 13, 7],\n",
    "               [14, 9, 16, 5]]\n",
    "\n",
    "## Parameters.\n",
    "num_plants = len(Plants)\n",
    "num_customers = len(Cities)\n",
    "# Dictionaries to enable data to be indexed by plants and cities\n",
    "Supply = { p : s for p, s in zip(Plants, supply_data)}\n",
    "Demand = { c : d for c, d in zip(Cities, demand_data)}\n",
    "Cost = {(p, c): cost_data[i][j] \n",
    "                  for i, p in enumerate(Plants)\n",
    "                  for j, c in enumerate(Cities)}"
   ]
  },
  {
   "cell_type": "code",
   "execution_count": null,
   "id": "410a0a79-767b-4346-9624-5f3cac10425a",
   "metadata": {},
   "outputs": [],
   "source": [
    "## Model\n",
    "m = pulp.LpProblem(\"Transportation_Problem_Winston_Example\", pulp.LpMinimize)\n",
    "\n",
    "## Decision Variables\n",
    "# x[(i,j)] = quantity shipped from plant i to city j\n",
    "x = {(i,j): pulp.LpVariable(f'x({i},{j})', lowBound=0, upBound=None, \n",
    "    cat=pulp.LpContinuous) for i in Plants for j in Cities}\n",
    "\n",
    "# Objective function\n",
    "# Minimize the total cost\n",
    "m += pulp.lpSum(x[i,j]*Cost[i,j] for i in Plants for j in Cities),'Total_Costs'\n",
    "\n",
    "## Constraints\n",
    "# Supplies from each plant i are limited by its supply capacity\n",
    "for i in Plants:\n",
    "    m += pulp.lpSum(x[i,j] for j in Cities) <= Supply[i], f'Supply({i})'\n",
    "\n",
    "# Demands at each city j must be met\n",
    "for j in Cities:\n",
    "    m += pulp.lpSum(x[i,j] for i in Plants) == Demand[j], f\"Demand({j})\"\n",
    "\n",
    "# Save model for inspection/debugging\n",
    "m.writeLP('Transportation_problem_winston.lp')\n"
   ]
  },
  {
   "cell_type": "code",
   "execution_count": null,
   "id": "e9b960ca-07e0-4c81-b33a-ae3806dccdbb",
   "metadata": {},
   "outputs": [],
   "source": [
    "# Solve the model\n",
    "\n",
    "# Listof available solvers: pulp.listSolvers(True)\n",
    "# solver = pulp.GUROBI(msg=True)\n",
    "# solver = pulp.GUROBI_CMD(msg=False)\n",
    "# solver = pulp.GLPK_CMD(msg=False)\n",
    "# solver = pulp.CPLEX_CMD(msg=True)\n",
    "# solver = pulp.CPLEX_PY(msg=False)\n",
    "solver = pulp.PULP_CBC_CMD(msg=False)\n",
    "\n",
    "# Solve the model \n",
    "m.solve(solver)\n",
    "# m.solve()  # default to CBC\n",
    "\n",
    "if pulp.LpStatus[m.status] == 'Optimal':\n",
    "    print(\"\\nOptimal Solution:\")\n",
    "    print(f\"Objective values = {pulp.value(m.objective):,.2f}\")\n",
    "\n",
    "    for i in Plants:\n",
    "        for j in Cities:\n",
    "            print(f\"Ship {x[i,j].varValue:4.1f} from {i} to {j}\")"
   ]
  },
  {
   "cell_type": "code",
   "execution_count": null,
   "id": "e788f4c2-5361-4fd7-99aa-6957eaef8fff",
   "metadata": {},
   "outputs": [],
   "source": []
  }
 ],
 "metadata": {
  "kernelspec": {
   "display_name": "Python 3 (ipykernel)",
   "language": "python",
   "name": "python3"
  },
  "language_info": {
   "codemirror_mode": {
    "name": "ipython",
    "version": 3
   },
   "file_extension": ".py",
   "mimetype": "text/x-python",
   "name": "python",
   "nbconvert_exporter": "python",
   "pygments_lexer": "ipython3",
   "version": "3.11.7"
  }
 },
 "nbformat": 4,
 "nbformat_minor": 5
}

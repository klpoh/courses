{
 "cells": [
  {
   "cell_type": "code",
   "execution_count": null,
   "id": "9af4a063-1b19-4b9f-95a3-68a47c97165c",
   "metadata": {},
   "outputs": [],
   "source": [
    "# 1.2_single_period_capital_budget_pulp_algebraic.ipynb\n",
    "import pulp\n",
    "\"\"\" Single Period Capital Budgetting Pulp (2024 10 12) \"\"\"\n",
    "\n",
    "## Sets\n",
    "Investments =['Inv1','Inv2','Inv3','Inv4','Inv5']\n",
    "Periods = [0, 1]\n",
    "\n",
    "## Data\n",
    "Expenses = [[11, 53,  5,  5, 29 ],\n",
    "            [ 3,  6,  5,  1, 34 ]]\n",
    "NPV = [13, 16, 16, 14, 39 ]\n",
    "Budgets = [40, 20 ]\n",
    "\n",
    "## Parameters\n",
    "exp = { (per, inv) : Expenses[j][i] \n",
    "           for i, inv in enumerate(Investments)\n",
    "               for j, per in enumerate(Periods) }\n",
    "npv  = { i : e for i, e in zip(Investments, NPV) }\n",
    "bgt = { p : b for p, b in zip(Periods, Budgets) }"
   ]
  },
  {
   "cell_type": "code",
   "execution_count": null,
   "id": "b650e77b-6c0e-488d-9559-0a30ac49073c",
   "metadata": {},
   "outputs": [],
   "source": [
    "## Model\n",
    "m = pulp.LpProblem(\"single_period_capital\", pulp.LpMaximize)\n",
    "\n",
    "## Decision Variables\n",
    "x = { i : pulp.LpVariable(f'x({i})', lowBound=0, upBound=1, \n",
    "    cat=pulp.LpContinuous) for i in Investments }\n",
    "\n",
    "## Objective function\n",
    "m += pulp.lpSum(npv[i]*x[i] for i in Investments),'NPV'\n",
    "\n",
    "## Constraints\n",
    "for p in Periods:\n",
    "    m += pulp.lpSum(exp[p,i]*x[i] for i in Investments) <= bgt[p], f'budget({p})'\n",
    "\n",
    "# Save model for inspection/debugging\n",
    "# m.writeLP('single_period_budget.lp')\n"
   ]
  },
  {
   "cell_type": "code",
   "execution_count": null,
   "id": "9b3e6865-5159-4bd0-a0a9-58bf8c5344c7",
   "metadata": {},
   "outputs": [],
   "source": [
    "# List of available solvers: pulp.listSolvers(True)\n",
    "# solver = pulp.GUROBI(msg=False)\n",
    "# solver = pulp.GUROBI_CMD(msg=False)\n",
    "# solver = pulp.GLPK_CMD(msg=False)\n",
    "# solver = pulp.CPLEX_CMD(msg=True)\n",
    "# solver = pulp.CPLEX_PY(msg=False)\n",
    "# solver = pulp.PULP_CBC_CMD(msg=False)\n",
    "\n",
    "# Solve the model\n",
    "m.solve()   # Use default solver\n",
    "# m.solve(solver)\n",
    "\n",
    "if pulp.LpStatus[m.status] == 'Optimal':\n",
    "    print(f\"Status: {pulp.LpStatus[m.status]}\")\n",
    "    print(f\"Objective values = {m.objective.value():,.6f}\")\n",
    "    for v in m.variables():\n",
    "        print(f\"{v.name} = {v.varValue:.6f}\")"
   ]
  },
  {
   "cell_type": "code",
   "execution_count": null,
   "id": "7e26513d-31c4-43d8-80b1-46c1d69005d4",
   "metadata": {},
   "outputs": [],
   "source": []
  }
 ],
 "metadata": {
  "kernelspec": {
   "display_name": "Python 3 (ipykernel)",
   "language": "python",
   "name": "python3"
  },
  "language_info": {
   "codemirror_mode": {
    "name": "ipython",
    "version": 3
   },
   "file_extension": ".py",
   "mimetype": "text/x-python",
   "name": "python",
   "nbconvert_exporter": "python",
   "pygments_lexer": "ipython3",
   "version": "3.11.7"
  }
 },
 "nbformat": 4,
 "nbformat_minor": 5
}

{
 "cells": [
  {
   "cell_type": "code",
   "execution_count": null,
   "id": "3caff07c-2a05-4d10-9a86-954c78180923",
   "metadata": {},
   "outputs": [],
   "source": [
    "# 1.4_facility_loc_set_covering_pulp.ipynb\n",
    "import pulp\n",
    "\"\"\" Facility Location Set Covering PuLP (2024 09 08) \"\"\"\n",
    "\n",
    "# Sets or Indices\n",
    "Nodes = ['S1', 'S2', 'S3', 'S4', 'S5', 'S6']\n",
    "\n",
    "# Data\n",
    "dist_data = [[0, 10, 20, 30, 30, 20],\n",
    "             [10, 0, 25, 35, 20, 10],\n",
    "             [20, 25, 0, 15, 30, 20], \n",
    "             [30, 35, 15, 0, 15, 25],\n",
    "             [30, 20, 30, 15, 0, 14],\n",
    "             [20, 10, 20, 25, 14, 0]]\n",
    "\n",
    "Cover_dist = 15\n",
    "\n",
    "# Data dictionaries\n",
    "# dist[i,j] = distance between node i and node j\n",
    "dist = {(n1,n2): dist_data[i][j] for i, n1 in enumerate(Nodes)\n",
    "            for j, n2 in enumerate(Nodes) }\n",
    "\n",
    "# covered[i,j] = 1 if dist[i,j] <= Cover_dist; = 0 otherwise.\n",
    "covered = {k: 1 if dist[k] <= Cover_dist else 0 for k in dist.keys() }"
   ]
  },
  {
   "cell_type": "code",
   "execution_count": null,
   "id": "89e7ac84-92a1-44cd-be2a-a4d5a8984074",
   "metadata": {},
   "outputs": [],
   "source": [
    "# Model\n",
    "m = pulp.LpProblem(\"Facility_location_set_covering\", pulp.LpMinimize)\n",
    "\n",
    "# Decision Variables\n",
    "x = { k : pulp.LpVariable(f'x_{k}', cat=pulp.LpBinary) for k in Nodes }\n",
    "\n",
    "# The objective is to minimize the total number of locations selected\n",
    "m += pulp.lpSum(x[k] for k in Nodes), 'Number_locations_selected'\n",
    "\n",
    "# Constraints\n",
    "for i in Nodes:\n",
    "    m += pulp.lpSum(covered[i,j]*x[j] for j in Nodes) >= 1, f'Cover_{i}'\n",
    " \n",
    "# Save of the model\n",
    "# m.writeLP('Facility_location_set_covering.lp')"
   ]
  },
  {
   "cell_type": "code",
   "execution_count": null,
   "id": "6941c59a-d4ea-422e-b4c8-7139c889eb4e",
   "metadata": {},
   "outputs": [],
   "source": [
    "# Save of the model\n",
    "# m.writeLP('Facility_location_set_covering.lp')\n",
    "\n",
    "# Listof available solvers: pulp.listSolvers(True)\n",
    "solver = pulp.GUROBI(msg=False)\n",
    "# solver = pulp.GUROBI_CMD((msg=False)\n",
    "# solver = pulp.GLPK_CMD(msg=True)\n",
    "# solver = pulp.CPLEX_CMD(msg=True)\n",
    "# solver = pulp.CPLEX_PY(msg=False)\n",
    "# solver = pulp.PULP_CBC_CMD((msg=False)\n",
    "\n",
    "# Solve the model \n",
    "m.solve(solver)\n",
    "\n",
    "# Print optimal solutions if found\n",
    "if pulp.LpStatus[m.status] == 'Optimal':\n",
    "    print(f\"Number of locations selected = {pulp.value(m.objective):,.2f}\")\n",
    "    for i in Nodes:\n",
    "        if x[i].varValue  == 1:\n",
    "            print(f\"  Select location {i}\")"
   ]
  },
  {
   "cell_type": "code",
   "execution_count": null,
   "id": "8630281f-7dd4-4756-b344-8882ae9197e2",
   "metadata": {},
   "outputs": [],
   "source": []
  }
 ],
 "metadata": {
  "kernelspec": {
   "display_name": "Python 3 (ipykernel)",
   "language": "python",
   "name": "python3"
  },
  "language_info": {
   "codemirror_mode": {
    "name": "ipython",
    "version": 3
   },
   "file_extension": ".py",
   "mimetype": "text/x-python",
   "name": "python",
   "nbconvert_exporter": "python",
   "pygments_lexer": "ipython3",
   "version": "3.11.7"
  }
 },
 "nbformat": 4,
 "nbformat_minor": 5
}

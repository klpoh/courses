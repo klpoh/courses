{
 "cells": [
  {
   "cell_type": "code",
   "execution_count": null,
   "id": "59c5a326-7310-4ce9-84a6-d5cb4997af73",
   "metadata": {},
   "outputs": [],
   "source": [
    "# 1.4_transportation_problem_with_fixed_cost_pulp.ipynb\n",
    "import pulp\n",
    "\"\"\" Transportation problem with fixed costs PuLP (2024 10 12) \"\"\"\n",
    "\n",
    "# Sets or Indices\n",
    "Plants = ['P1','P2','P3','P4','P5']\n",
    "Customers = ['W1','W2','W3','W4']\n",
    "\n",
    "## Data. They can be read from external file\n",
    "cap_data = [20, 22, 17, 19, 18]\n",
    "fCosts_data = [12000, 15000, 17000, 13000, 16000]\n",
    "demands_data    = [15, 18, 14, 20]\n",
    "tranCosts_data  = [[4000, 2500, 1200, 2200],\n",
    "                   [2000, 2600, 1800, 2600],\n",
    "                   [3000, 3400, 2600, 3100],\n",
    "                   [2500, 3000, 4100, 3700],\n",
    "                   [4500, 4000, 3000, 3200]]\n",
    "\n",
    "## Parameters\n",
    "# Dictionaries to enable data to be indexed by Plants and Customers\n",
    "cap = {p: c for p, c in zip(Plants, cap_data)}\n",
    "\n",
    "demand = {c: d for c, d in zip(Customers, demands_data)}\n",
    "\n",
    "transCost = {(p, c): tranCosts_data[i][j] \n",
    "             for i, p in enumerate(Plants)\n",
    "                 for j, c in enumerate(Customers)}\n",
    "\n",
    "fCost = {p : fc for p, fc in zip(Plants, fCosts_data)}"
   ]
  },
  {
   "cell_type": "code",
   "execution_count": null,
   "id": "ac34054b-2063-4213-b62d-6b44247ae594",
   "metadata": {},
   "outputs": [],
   "source": [
    "# Model\n",
    "m = pulp.LpProblem(\"Trans_Problem_fixed_cost\", pulp.LpMinimize)\n",
    "\n",
    "# Decision Variables\n",
    "x = {(i,j): pulp.LpVariable(f'x({i},{j})', lowBound=0, upBound=None, \n",
    "    cat=pulp.LpContinuous) for i in Plants for j in Customers}\n",
    "\n",
    "y = {i: pulp.LpVariable(f'y({i})', cat=pulp.LpBinary) for i in Plants}\n",
    "\n",
    "# Objective function \n",
    "m += pulp.lpSum(x[i,j]*transCost[i,j] for i in Plants for j in Customers) + \\\n",
    "     pulp.lpSum(y[i]*fCost[i] for i in Plants), 'Total_Costs'\n",
    "\n",
    "# Constraints\n",
    "# Supplies from each plant p are limited by its capacity and if open\n",
    "for i in Plants:\n",
    "    m += pulp.lpSum(x[i,j] for j in Customers) <= cap[i]*y[i], f'Capacity({i})'\n",
    "    \n",
    "# Demand for warehouses\n",
    "for j in Customers:\n",
    "    m += pulp.lpSum(x[i,j] for i in Plants) == demand[j], f\"Demand({j})\"\n",
    "\n",
    "         \n",
    "# Write the model to an .lp file for inspection\n",
    "# m.writeLP(\"Trans_fixed_cost.lp\")"
   ]
  },
  {
   "cell_type": "code",
   "execution_count": null,
   "id": "1ff073f3-02f3-4f91-affd-c59c233a6f5e",
   "metadata": {},
   "outputs": [],
   "source": [
    "# Listof available solvers: pulp.listSolvers(True)\n",
    "# solver = pulp.GUROBI(msg=False)\n",
    "# solver = pulp.GUROBI_CMD(msg=False)\n",
    "# solver = pulp.GLPK_CMD(msg=False)\n",
    "# solver = pulp.CPLEX_CMD(msg=False)\n",
    "# solver = pulp.CPLEX_PY(msg=False)\n",
    "solver = pulp.PULP_CBC_CMD(msg=False)\n",
    "\n",
    "# Solve the model \n",
    "m.solve(solver)\n",
    "# m.solve()\n",
    "\n",
    "print(f\"Status: {pulp.LpStatus[m.status]}\")\n",
    "\n",
    "if pulp.LpStatus[m.status] == 'Optimal':\n",
    "    print(f\"Objective values = {pulp.value(m.objective):,.2f}\")\n",
    "    \n",
    "    # Decison variables values and reduced costs\n",
    "    print(\"\\nDecision Variables:\")\n",
    "    for v in m.variables():\n",
    "        print(f\"  {v.name:}= {v.varValue}, reduced cost= {v.dj}\")\n",
    "    \n",
    "    print(\"\\nConstraints:\")\n",
    "    for name, c in list(m.constraints.items()):\n",
    "        print(f\"  {name:}: slack= {c.slack}, dual price = {c.pi}\")"
   ]
  },
  {
   "cell_type": "code",
   "execution_count": null,
   "id": "e41746a4-e0e0-442a-bfea-bc4aa4a1de0e",
   "metadata": {},
   "outputs": [],
   "source": []
  }
 ],
 "metadata": {
  "kernelspec": {
   "display_name": "Python 3 (ipykernel)",
   "language": "python",
   "name": "python3"
  },
  "language_info": {
   "codemirror_mode": {
    "name": "ipython",
    "version": 3
   },
   "file_extension": ".py",
   "mimetype": "text/x-python",
   "name": "python",
   "nbconvert_exporter": "python",
   "pygments_lexer": "ipython3",
   "version": "3.11.7"
  }
 },
 "nbformat": 4,
 "nbformat_minor": 5
}

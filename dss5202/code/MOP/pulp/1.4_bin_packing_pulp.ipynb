{
 "cells": [
  {
   "cell_type": "code",
   "execution_count": null,
   "id": "cd1519a5-09fb-4a3b-a6b5-603cacfeb1ae",
   "metadata": {},
   "outputs": [],
   "source": [
    "# 1.4_bin_packing_pulp.ipynb\n",
    "import pulp\n",
    "\"\"\" Bin Packing Problem Pulp (2024 10 12) \"\"\"\n",
    "\n",
    "# Sets\n",
    "Items = range(1, 10)\n",
    "Bins = range(1, 10)\n",
    "\n",
    "# Data\n",
    "Sizes = [0.5, 0.7, 0.5, 0.2, 0.4, 0.2, 0.5, 0.1, 0.6]\n",
    "\n",
    "# Parameters\n",
    "s = { item : size for item, size in zip(Items, Sizes) }"
   ]
  },
  {
   "cell_type": "code",
   "execution_count": null,
   "id": "e5050203-a0b2-4987-b8ef-f0334c8d3cac",
   "metadata": {},
   "outputs": [],
   "source": [
    "## Model\n",
    "m = pulp.LpProblem(\"Bin_Packing_Probem\", pulp.LpMinimize)\n",
    "\n",
    "## Decision Variables\n",
    "x = {(i,j): pulp.LpVariable(f'x({i},{j})', cat=pulp.LpBinary) \n",
    "     for i in Items for j in Bins}\n",
    "y = { j : pulp.LpVariable(f'y{j})', cat=pulp.LpBinary) for j in Bins}\n",
    "\n",
    "# Objective function\n",
    "m += pulp.lpSum(y[j] for j in Bins),'No_of_bins'\n",
    "\n",
    "## Constraints\n",
    "for j in Bins:\n",
    "    m += pulp.lpSum(s[i]*x[i,j] for i in Items) <= y[j], f'Bin_cap({j})'\n",
    "    \n",
    "for i in Items:\n",
    "    m += pulp.lpSum(x[i,j] for j in Bins) == 1, f'Assign({i})'\n",
    "\n",
    "# Save model for inspection/debugging\n",
    "# m.writeLP('BPP.lp')"
   ]
  },
  {
   "cell_type": "code",
   "execution_count": null,
   "id": "e974f33d-6514-4c8f-bcaa-33df751bb3e9",
   "metadata": {},
   "outputs": [],
   "source": [
    "# Listof available solvers: pulp.listSolvers(True)\n",
    "# solver = pulp.GUROBI(msg=True)\n",
    "# solver = pulp.GUROBI_CMD(msg=False)\n",
    "# solver = pulp.GLPK_CMD(msg=False)\n",
    "# solver = pulp.CPLEX_CMD(msg=True)\n",
    "# solver = pulp.CPLEX_PY(msg=False)\n",
    "solver = pulp.PULP_CBC_CMD(msg=False)\n",
    "\n",
    "# Solve the model \n",
    "m.solve(solver)\n",
    "# m.solve()  # default to CBC\n",
    "\n",
    "if pulp.LpStatus[m.status] == 'Optimal':\n",
    "    print(\"\\nOptimal Solution:\")\n",
    "    print(f\"Obj values = {pulp.value(m.objective)} bins\")\n",
    "\n",
    "    k = 0\n",
    "    for j in Bins:\n",
    "        if y[j].varValue == 1:\n",
    "            k +=1\n",
    "            print(f\"Bin {k}:\")\n",
    "            for i in Items:\n",
    "                if x[i,j].varValue == 1:\n",
    "                    print(f\" Item {i} ({s[i]})\")"
   ]
  },
  {
   "cell_type": "code",
   "execution_count": null,
   "id": "6369f73c-52ed-4cd9-8956-473d5dd79d60",
   "metadata": {},
   "outputs": [],
   "source": []
  }
 ],
 "metadata": {
  "kernelspec": {
   "display_name": "Python 3 (ipykernel)",
   "language": "python",
   "name": "python3"
  },
  "language_info": {
   "codemirror_mode": {
    "name": "ipython",
    "version": 3
   },
   "file_extension": ".py",
   "mimetype": "text/x-python",
   "name": "python",
   "nbconvert_exporter": "python",
   "pygments_lexer": "ipython3",
   "version": "3.11.7"
  }
 },
 "nbformat": 4,
 "nbformat_minor": 5
}

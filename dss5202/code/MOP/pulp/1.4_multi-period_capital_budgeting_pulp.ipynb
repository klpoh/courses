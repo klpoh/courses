{
 "cells": [
  {
   "cell_type": "code",
   "execution_count": null,
   "id": "59c5a326-7310-4ce9-84a6-d5cb4997af73",
   "metadata": {},
   "outputs": [],
   "source": [
    "# 1.4_multi-period_capital_budgeting_pulp.ipynb\n",
    "import pulp\n",
    "\"\"\" Multi-Period Capital Budgeting Problem (2024 10 12) \"\"\"\n",
    "\n",
    "# Sets or Indices\n",
    "Projects = ['P1','P2','P3','P4','P5']\n",
    "Years = [1, 2, 3]\n",
    "Budgets = [25, 25, 25]\n",
    "Cash_flows = [[5, 1, 8 ],\n",
    "              [4, 7, 10],\n",
    "              [3, 9, 2 ],\n",
    "              [7, 4, 1 ],\n",
    "              [8, 6, 10]]\n",
    "Benefits = [20, 40, 20, 15, 30 ]\n",
    "\n",
    "## Parameters\n",
    "budget = {y: b for y, b in zip(Years, Budgets)}\n",
    "cf = {(p, y) : Cash_flows[i][j] \n",
    "                for i, p in enumerate(Projects)\n",
    "                    for j, y in enumerate(Years)}\n",
    "npv = {p: b for p, b in zip(Projects, Benefits)}"
   ]
  },
  {
   "cell_type": "code",
   "execution_count": null,
   "id": "5dee5558-c7e4-4946-b3f7-43ad21d34626",
   "metadata": {},
   "outputs": [],
   "source": [
    "## Model\n",
    "m = pulp.LpProblem(\"multi_period_budget\", pulp.LpMaximize)\n",
    "\n",
    "## Decision Variables\n",
    "x = { j : pulp.LpVariable(f'x({j})', cat=pulp.LpBinary) for j in Projects}\n",
    "\n",
    "# Objective function\n",
    "m += pulp.lpSum(npv[i]*x[i] for i in Projects),'NPV'\n",
    "\n",
    "## Constraints\n",
    "for j in Years:\n",
    "    m += pulp.lpSum(cf[i,j]*x[i] for i in Projects) <= budget[j], f'Budget({j})'\n",
    "\n",
    "# Save model for inspection/debugging\n",
    "# m.writeLP('multi_period_budget.lp')"
   ]
  },
  {
   "cell_type": "code",
   "execution_count": null,
   "id": "8f92f086-2bbd-4b28-9564-59b583794784",
   "metadata": {},
   "outputs": [],
   "source": [
    "# Save model for inspection/debugging\n",
    "# m.writeLP('multi_period_budget.lp')\n",
    "\n",
    "# Listof available solvers: pulp.listSolvers(True)\n",
    "# solver = pulp.GUROBI(msg=True)\n",
    "# solver = pulp.GUROBI_CMD(msg=False)\n",
    "# solver = pulp.GLPK_CMD(msg=False)\n",
    "# solver = pulp.CPLEX_CMD(msg=True)\n",
    "# solver = pulp.CPLEX_PY(msg=False)\n",
    "solver = pulp.PULP_CBC_CMD(msg=False)\n",
    "\n",
    "# Solve the model \n",
    "m.solve(solver)\n",
    "# m.solve()  # default to CBC\n",
    "\n",
    "if pulp.LpStatus[m.status] == 'Optimal':\n",
    "    print(\"\\nOptimal Solution:\")\n",
    "    print(f\"Objective values = {pulp.value(m.objective):,.2f}\")\n",
    "    print(\"Select:\")\n",
    "    for i in Projects:\n",
    "        if x[i].varValue == 1:\n",
    "            print(f\"  Project {i}:\")"
   ]
  },
  {
   "cell_type": "code",
   "execution_count": null,
   "id": "ef2396b4-7b14-4de2-bdad-58df3bc1beee",
   "metadata": {},
   "outputs": [],
   "source": []
  }
 ],
 "metadata": {
  "kernelspec": {
   "display_name": "Python 3 (ipykernel)",
   "language": "python",
   "name": "python3"
  },
  "language_info": {
   "codemirror_mode": {
    "name": "ipython",
    "version": 3
   },
   "file_extension": ".py",
   "mimetype": "text/x-python",
   "name": "python",
   "nbconvert_exporter": "python",
   "pygments_lexer": "ipython3",
   "version": "3.11.7"
  }
 },
 "nbformat": 4,
 "nbformat_minor": 5
}

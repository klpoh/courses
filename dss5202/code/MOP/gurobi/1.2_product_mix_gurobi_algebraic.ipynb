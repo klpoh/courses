{
 "cells": [
  {
   "cell_type": "code",
   "execution_count": null,
   "id": "8d945080-c398-4b30-8519-52a9358b43a5",
   "metadata": {},
   "outputs": [],
   "source": [
    "# product_mix_gurobi_algebraic.ipynb\n",
    "import gurobipy as gp\n",
    "from gurobipy import GRB\n",
    "\"\"\" Product Mix Problem in Algebraic Model Format (2024 10 06) \"\"\"\n",
    "## Sets or Indices\n",
    "Products = ['door','window']\n",
    "Plants = ['plant_1','plant_2','plant_3']\n",
    "\n",
    "# Data (can be read from Excel file)\n",
    "Plant_cap = [4, 12, 18]\n",
    "TechCoeff = [[1, 0], [0, 2], [3, 2]]\n",
    "Profit = [3, 5]\n",
    "\n",
    "## Parameters\n",
    "# Resource capacities\n",
    "b = {plant : cap for plant, cap in zip(Plants, Plant_cap) }\n",
    "A = {(plant, prod) : TechCoeff[i][j] \n",
    "     for i, plant in enumerate(Plants)\n",
    "         for j, prod in enumerate(Products) }\n",
    "c = {prod: profit for prod, profit in zip(Products, Profit)}"
   ]
  },
  {
   "cell_type": "code",
   "execution_count": null,
   "id": "835e888c-0d6d-427f-b090-03a537ec9d67",
   "metadata": {},
   "outputs": [],
   "source": [
    "## Model\n",
    "m = gp.Model('product_mix')\n",
    "\n",
    "## Decision Variables\n",
    "# Quantity of product produced\n",
    "x = m.addVars(Products, vtype=GRB.CONTINUOUS, lb=0, name=\"x\")\n",
    "\n",
    "# Objective function\n",
    "# Max total profits\n",
    "m.setObjective(\n",
    "    gp.quicksum(c[prod]*x[prod] for prod in Products), GRB.MAXIMIZE)\n",
    "    \n",
    "## Constraints\n",
    "# Capacity of each resource cannot be exceeded.\n",
    "m.addConstrs(\n",
    "    (gp.quicksum(A[plant,prod]*x[prod] for prod in Products) <= b[plant] \n",
    "         for plant in Plants), name='Capacity')\n",
    "\n",
    "# Save model for inspection/debugging\n",
    "# m.write('product_mix.lp')"
   ]
  },
  {
   "cell_type": "code",
   "execution_count": null,
   "id": "c8bd1ee1-25d9-407c-a7c9-cdf4c4f3c03e",
   "metadata": {},
   "outputs": [],
   "source": [
    "# Solve the model\n",
    "m.optimize()\n",
    "\n",
    "# Print optimal solutions\n",
    "if m.status == GRB.Status.OPTIMAL:\n",
    "    print(\"\\nOptimal Solution:\")\n",
    "    print(f\"Profit = {m.objVal}\")\n",
    "    \n",
    "    for i in Products:\n",
    "        print(f\"Product {i} = {x[i].x}\")\n"
   ]
  },
  {
   "cell_type": "code",
   "execution_count": null,
   "id": "a94f573d-af75-4ca8-bf37-c312df6b1030",
   "metadata": {},
   "outputs": [],
   "source": []
  }
 ],
 "metadata": {
  "kernelspec": {
   "display_name": "Python 3 (ipykernel)",
   "language": "python",
   "name": "python3"
  },
  "language_info": {
   "codemirror_mode": {
    "name": "ipython",
    "version": 3
   },
   "file_extension": ".py",
   "mimetype": "text/x-python",
   "name": "python",
   "nbconvert_exporter": "python",
   "pygments_lexer": "ipython3",
   "version": "3.11.7"
  }
 },
 "nbformat": 4,
 "nbformat_minor": 5
}

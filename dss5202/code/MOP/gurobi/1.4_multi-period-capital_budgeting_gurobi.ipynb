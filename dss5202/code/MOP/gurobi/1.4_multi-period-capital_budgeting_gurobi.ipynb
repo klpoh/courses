{
 "cells": [
  {
   "cell_type": "code",
   "execution_count": null,
   "id": "74cf3fbc-64e6-499a-937c-c4d5b2a78c99",
   "metadata": {},
   "outputs": [],
   "source": [
    "# 1.4_multi-period-capital_budgeting_gurobi.py\n",
    "import gurobipy as gp\n",
    "from gurobipy import GRB\n",
    "\"\"\" Multi-Period Capital Budgeting Problem (2024 09 08) \"\"\"\n",
    "\n",
    "# Sets or Indices\n",
    "Projects = ['P1','P2','P3','P4','P5']\n",
    "Years = [1, 2, 3]\n",
    "Budgets = [25, 25, 25]\n",
    "Cash_flows = [[5, 1, 8 ],\n",
    "              [4, 7, 10],\n",
    "              [3, 9, 2 ],\n",
    "              [7, 4, 1 ],\n",
    "              [8, 6, 10]]\n",
    "Benefits = [20, 40, 20, 15, 30 ]\n",
    "\n",
    "## Parameters\n",
    "budget = {y: b for y, b in zip(Years, Budgets)}\n",
    "cf = {(p, y) : Cash_flows[i][j] \n",
    "                for i, p in enumerate(Projects)\n",
    "                    for j, y in enumerate(Years)}\n",
    "npv = {p: b for p, b in zip(Projects, Benefits)}"
   ]
  },
  {
   "cell_type": "code",
   "execution_count": null,
   "id": "d412e745-cdd9-4daf-b6ff-1da249ee7ecf",
   "metadata": {},
   "outputs": [],
   "source": [
    "## Model\n",
    "m = gp.Model(\"Capital Budgeting\")\n",
    "\n",
    "## Decision Variables\n",
    "# x[j] = 1 if project j is choose; = 0 otherwise\n",
    "x = m.addVars(Projects, vtype=GRB.BINARY, name=\"x\")\n",
    "\n",
    "# Objective function\n",
    "# Maximize the total NPV\n",
    "m.setObjective(\n",
    "    gp.quicksum(x[i]*npv[i] for i in Projects), GRB.MAXIMIZE)\n",
    "\n",
    "## Constraints\n",
    "# Budget of each year should not be exceeded\n",
    "c1 = m.addConstrs(\n",
    "    (gp.quicksum(x[i]*cf[i,j] for i in Projects) <= budget[j]\n",
    "         for j in Years), name='Budget')\n",
    "\n",
    "# Save model for inspection/debugging\n",
    "# m.write('Capital_budgeting.lp')"
   ]
  },
  {
   "cell_type": "code",
   "execution_count": null,
   "id": "367e60f9-4729-42bd-b960-ef4d7a3b29a6",
   "metadata": {},
   "outputs": [],
   "source": [
    "# Solve the model\n",
    "m.optimize()\n",
    "\n",
    "# Print optimal solutions if found\n",
    "if m.status == GRB.Status.OPTIMAL:\n",
    "    print(\"\\nOptimal Solution:\")\n",
    "    print(f\"Obj Value = {m.objVal}\")\n",
    "    print(\"Select:\")\n",
    "    for i in Projects:\n",
    "        if x[i].x == 1:\n",
    "            print(f\"Project {i}:\")"
   ]
  },
  {
   "cell_type": "code",
   "execution_count": null,
   "id": "15c81b93-678d-456a-a934-d9baa4c8937c",
   "metadata": {},
   "outputs": [],
   "source": []
  }
 ],
 "metadata": {
  "kernelspec": {
   "display_name": "Python 3 (ipykernel)",
   "language": "python",
   "name": "python3"
  },
  "language_info": {
   "codemirror_mode": {
    "name": "ipython",
    "version": 3
   },
   "file_extension": ".py",
   "mimetype": "text/x-python",
   "name": "python",
   "nbconvert_exporter": "python",
   "pygments_lexer": "ipython3",
   "version": "3.11.7"
  }
 },
 "nbformat": 4,
 "nbformat_minor": 5
}

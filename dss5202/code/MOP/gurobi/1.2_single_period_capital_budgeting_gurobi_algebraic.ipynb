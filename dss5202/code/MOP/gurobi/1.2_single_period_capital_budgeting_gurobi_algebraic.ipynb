{
 "cells": [
  {
   "cell_type": "code",
   "execution_count": null,
   "id": "7064bf7e-5b04-4a48-b1e6-4af41d43a478",
   "metadata": {},
   "outputs": [],
   "source": [
    "# 1.2_single_period_capital_budgeting_gurobi_algebraic.ipynb\n",
    "import gurobipy as gp\n",
    "from gurobipy import GRB\n",
    "\"\"\" Single Period Budgeting Problem Gurobi Algebric (2024 10 06) \"\"\"\n",
    "\n",
    "## Sets\n",
    "Investments =['Inv1','Inv2','Inv3','Inv4','Inv5']\n",
    "Periods = [0, 1]\n",
    "\n",
    "## Data\n",
    "Expenses = [[11, 53,  5,  5, 29 ],\n",
    "            [ 3,  6,  5,  1, 34 ]]\n",
    "NPV = [13, 16, 16, 14, 39 ]\n",
    "Budgets = [40, 20 ]\n",
    "\n",
    "## Parameters\n",
    "exp = { (per, inv) : Expenses[j][i] \n",
    "           for i, inv in enumerate(Investments)\n",
    "               for j, per in enumerate(Periods) }\n",
    "npv  = { i : e for i, e in zip(Investments, NPV) }\n",
    "bgt = { p : b for p, b in zip(Periods, Budgets) }"
   ]
  },
  {
   "cell_type": "code",
   "execution_count": null,
   "id": "d3760583-6b2e-4812-b2f3-a0a9e7bc7238",
   "metadata": {},
   "outputs": [],
   "source": [
    "## Model\n",
    "m = gp.Model('single_period_capital_budgetting')\n",
    "\n",
    "## Decision Variables\n",
    "x = m.addVars(Investments, vtype=GRB.CONTINUOUS, lb=0, ub=1, name=\"x\")\n",
    "# x = m.addVars(Investments, vtype=GRB.BINARY, name=\"x\")\n",
    "\n",
    "# Objective function\n",
    "m.setObjective(\n",
    "     gp.quicksum(npv[i]*x[i] for i in Investments), GRB.MAXIMIZE)\n",
    "    \n",
    "## Constraints\n",
    "m.addConstrs(\n",
    "    (gp.quicksum(exp[p,i]*x[i] for i in Investments) <= bgt[p]\n",
    "         for p in Periods), name='Budget')\n",
    "\n",
    "# Save model for inspection/debugging\n",
    "# m.write('single_period_budget.lp')"
   ]
  },
  {
   "cell_type": "code",
   "execution_count": null,
   "id": "814d62af-b455-4610-8507-9a544f69dcf7",
   "metadata": {},
   "outputs": [],
   "source": [
    "# Solve the model\n",
    "m.optimize()\n",
    "\n",
    "# Print optimal solutions\n",
    "if m.status == GRB.Status.OPTIMAL:\n",
    "    print(\"\\nOptimal Solution:\")\n",
    "    print(f\"Profit = {m.objVal:.6f}\")\n",
    "    for i in Investments:\n",
    "        print(f\"{i} = {x[i].x:.6f}\")\n"
   ]
  },
  {
   "cell_type": "code",
   "execution_count": null,
   "id": "687d47c7-8b54-4083-9c65-ae1921787ede",
   "metadata": {},
   "outputs": [],
   "source": []
  }
 ],
 "metadata": {
  "kernelspec": {
   "display_name": "Python 3 (ipykernel)",
   "language": "python",
   "name": "python3"
  },
  "language_info": {
   "codemirror_mode": {
    "name": "ipython",
    "version": 3
   },
   "file_extension": ".py",
   "mimetype": "text/x-python",
   "name": "python",
   "nbconvert_exporter": "python",
   "pygments_lexer": "ipython3",
   "version": "3.11.7"
  }
 },
 "nbformat": 4,
 "nbformat_minor": 5
}

{
 "cells": [
  {
   "cell_type": "code",
   "execution_count": null,
   "id": "9f59b896-95f7-4c36-a4e3-2716da5605a3",
   "metadata": {},
   "outputs": [],
   "source": [
    "# 1.4_TSP_5_nodes_gurobi.ipynb\n",
    "import gurobipy as gp\n",
    "from gurobipy import GRB\n",
    "\"\"\" Traveling Scaleman Problem 5 nodes Gurobi (2024 09 08) \"\"\"\n",
    "\n",
    "# Sets\n",
    "Nodes = ['S1', 'S2', 'S3', 'S4', 'S5']\n",
    "Links = [(x,y) for x in Nodes for y in Nodes if x!=y]\n",
    "\n",
    "# Data or Parameters\n",
    "dist_matrix = [[ 0,  132, 217, 164,  58],\n",
    "               [132,  0,  290, 201,  79],\n",
    "               [217, 290,  0,  113, 303],\n",
    "               [164, 201, 113,  0,  196],\n",
    "               [ 58,  79, 303, 196,  0 ]]\n",
    "\n",
    "dist = {(x,y) : dist_matrix[i][j] \n",
    "            for i, x in enumerate(Nodes) \n",
    "                for j, y in enumerate(Nodes) if i != j}"
   ]
  },
  {
   "cell_type": "code",
   "execution_count": null,
   "id": "005347aa-bbc0-42ea-8195-e231e0e5f8ce",
   "metadata": {},
   "outputs": [],
   "source": [
    "## Model\n",
    "m = gp.Model('TSP')\n",
    "\n",
    "## Decision variables\n",
    "# x[i,j] = 1 if saleman travels from node i to node j\n",
    "x = m.addVars(Links, vtype=GRB.BINARY, name=\"x\")\n",
    "\n",
    "# Subtours breaking vars\n",
    "u = m.addVars(Nodes[1:], vtype=GRB.CONTINUOUS, name=\"u\")\n",
    "\n",
    "## Objective function\n",
    "# Minimize the total distance travelled\n",
    "m.setObjective(\n",
    "    gp.quicksum(dist[i,j]*x[i,j] for i,j in Links), GRB.MINIMIZE)\n",
    "\n",
    "# Constraints\n",
    "c1 = m.addConstrs(\n",
    "       (gp.quicksum(x[i,j] for j in Nodes if j!=i) == 1 for i in Nodes), \n",
    "       name=\"flow1\")\n",
    "c2 = m.addConstrs(\n",
    "       (gp.quicksum(x[i,j] for i in Nodes if i!=j) == 1 for j in Nodes), \n",
    "       name=\"flow2\")\n",
    "\n",
    "# Subtours breaking constraints\n",
    "n = len(Nodes)\n",
    "c3 = m.addConstrs(\n",
    "        (u[i]-u[j]+n*x[i,j] <= n-1 for i in Nodes[1:] for j in Nodes[1:]\n",
    "             if i != j), name=\"subtours\")\n",
    "\n",
    "# Save the model in LP format for inspection\n",
    "# m.write('TSP.lp')"
   ]
  },
  {
   "cell_type": "code",
   "execution_count": null,
   "id": "a975d462-7539-4486-b06a-3a1dbe72658f",
   "metadata": {},
   "outputs": [],
   "source": [
    "# Solve the model\n",
    "m.optimize()\n",
    "\n",
    "if m.status == GRB.Status.OPTIMAL:\n",
    "    print(f\"\\nObjective value = {m.ObjVal:.4f}\\n\")\n",
    "    # Solutions:\n",
    "    for k in Links:\n",
    "        print(f\"x{k} = {x[k].x}\")\n",
    "    \n",
    "    # Trace Optimal Tour\n",
    "    next_node = {i : j for i,j in Links if x[i,j].x==1 }\n",
    "    start = Nodes[0]  # Can start at any node.\n",
    "    tour = [start]\n",
    "    node = start\n",
    "    done = False\n",
    "    print(\"\\nOptimal Tour:\")\n",
    "    while not done:\n",
    "        print(f\"  {node} -> {next_node[node]}\")\n",
    "        node = next_node[node]\n",
    "        tour = tour+[node]\n",
    "        done = (node==start)\n",
    "    print(tour)\n"
   ]
  },
  {
   "cell_type": "code",
   "execution_count": null,
   "id": "79a7730e-c2f3-41e0-8d48-b82d8a4ed21b",
   "metadata": {},
   "outputs": [],
   "source": []
  }
 ],
 "metadata": {
  "kernelspec": {
   "display_name": "Python 3 (ipykernel)",
   "language": "python",
   "name": "python3"
  },
  "language_info": {
   "codemirror_mode": {
    "name": "ipython",
    "version": 3
   },
   "file_extension": ".py",
   "mimetype": "text/x-python",
   "name": "python",
   "nbconvert_exporter": "python",
   "pygments_lexer": "ipython3",
   "version": "3.11.7"
  }
 },
 "nbformat": 4,
 "nbformat_minor": 5
}

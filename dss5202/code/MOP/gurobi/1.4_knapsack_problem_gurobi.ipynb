{
 "cells": [
  {
   "cell_type": "code",
   "execution_count": null,
   "id": "7a512ceb-4f24-4102-a987-58432459b4b1",
   "metadata": {},
   "outputs": [],
   "source": [
    "# 1.4_knapsack_problem_gurobi.py\n",
    "import gurobipy as gp\n",
    "from gurobipy import GRB\n",
    "\"\"\" Knapsack Problem Gurobi (2024 09 22) \"\"\"\n",
    "\n",
    "# Sets or Indices\n",
    "Items = ['I1','I2','I3','I4','I5', 'I6', 'I7', 'I8']\n",
    "\n",
    "# Data\n",
    "Volumes = [1, 3, 4, 3, 3, 1, 5, 10 ]\n",
    "Values =  [2, 9, 3, 8, 10, 6, 4, 10 ]\n",
    "Cap = 15\n",
    "\n",
    "## Parameters.\n",
    "vol = {i: vo  for i, vo  in zip(Items, Volumes)}\n",
    "val = {i: va  for i, va  in zip(Items, Values)}"
   ]
  },
  {
   "cell_type": "code",
   "execution_count": null,
   "id": "51dd5dba-b0a5-40f0-9a29-5e56d0288333",
   "metadata": {},
   "outputs": [],
   "source": [
    "## Model\n",
    "m = gp.Model(\"KP_problem\")\n",
    "\n",
    "## Decision Variables\n",
    "# x[i] = 1 if item  i is included, = 0 otherwise\n",
    "x = m.addVars(Items, vtype=GRB.BINARY, name=\"x\")\n",
    "\n",
    "# Objective function\n",
    "# Minimize the total value\n",
    "m.setObjective(\n",
    "    gp.quicksum(val[i]*x[i] for i in Items), GRB.MAXIMIZE)\n",
    "    \n",
    "## Constraints\n",
    "# Supplies from each plant p are limited by its capacity\n",
    "c1 = m.addConstr(\n",
    "    gp.quicksum(vol[i]*x[i] for i in Items) <= Cap, name='Capacity')\n",
    "\n",
    "# Save model for inspection/debugging\n",
    "# m.write('KP.lp')\n"
   ]
  },
  {
   "cell_type": "code",
   "execution_count": null,
   "id": "1db4c44f-3a54-4b17-a3e0-dbb095f89738",
   "metadata": {},
   "outputs": [],
   "source": [
    "# Solve the model\n",
    "m.optimize()\n",
    "\n",
    "# Print optimal solutions if found\n",
    "if m.status == GRB.Status.OPTIMAL:\n",
    "    print(\"\\nOptimal Solution:\")\n",
    "    print(f\"Obj Value = {m.objVal}\")\n",
    "\n",
    "    for i in Items:\n",
    "        if x[i].x == 1:\n",
    "            print(f\"Pack item {i}\")\n"
   ]
  },
  {
   "cell_type": "code",
   "execution_count": null,
   "id": "e93e238a-5646-4fe3-b282-12cbefe79097",
   "metadata": {},
   "outputs": [],
   "source": []
  }
 ],
 "metadata": {
  "kernelspec": {
   "display_name": "Python 3 (ipykernel)",
   "language": "python",
   "name": "python3"
  },
  "language_info": {
   "codemirror_mode": {
    "name": "ipython",
    "version": 3
   },
   "file_extension": ".py",
   "mimetype": "text/x-python",
   "name": "python",
   "nbconvert_exporter": "python",
   "pygments_lexer": "ipython3",
   "version": "3.11.7"
  }
 },
 "nbformat": 4,
 "nbformat_minor": 5
}

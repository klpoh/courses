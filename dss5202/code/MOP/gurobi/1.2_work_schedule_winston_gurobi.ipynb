{
 "cells": [
  {
   "cell_type": "code",
   "execution_count": null,
   "id": "8dc6ccc0-823d-4f78-a090-1420b00dd772",
   "metadata": {},
   "outputs": [],
   "source": [
    "# 1.2_work_schedule_winston_gurobi.py\n",
    "import gurobipy as gp\n",
    "from gurobipy import GRB\n",
    "\"\"\" Winston's Weekly Workforce Planning Problem (2024 10 06) \"\"\"\n",
    "\n",
    "# Indices\n",
    "Days = ['Mon','Tue','Wed','Thu','Fri','Sat','Sun']\n",
    "\n",
    "# Data\n",
    "Workers_req = [17, 13, 15, 19, 14, 16, 11]\n",
    "\n",
    "# Covers[i][j] = 1 if a staff who starts on day j is also working on day i \n",
    "Covers = [[1, 0, 0, 1, 1, 1, 1],\n",
    "          [1, 1, 0, 0, 1, 1, 1],\n",
    "          [1, 1, 1, 0, 0, 1, 1],\n",
    "          [1, 1, 1, 1, 0, 0, 1],\n",
    "          [1, 1, 1, 1, 1, 0, 0],\n",
    "          [0, 1, 1, 1, 1, 1, 0],\n",
    "          [0, 0, 1, 1, 1, 1, 1]]\n",
    "\n",
    "# Parameters\n",
    "b = { d : req for  d, req in zip(Days, Workers_req) }\n",
    "\n",
    "A = {(d1, d2): Covers[i][j] \n",
    "         for i, d1 in enumerate(Days)\n",
    "             for j, d2 in enumerate(Days) }"
   ]
  },
  {
   "cell_type": "code",
   "execution_count": null,
   "id": "b1685c1a-cd2e-48a6-90a3-d4ba10042a19",
   "metadata": {},
   "outputs": [],
   "source": [
    "## Model\n",
    "m = gp.Model(\"Workforce planning\")\n",
    "\n",
    "## Decision Variables\n",
    "# x[i] = number of workers starting work on Day i.\n",
    "x = m.addVars(Days, vtype=GRB.INTEGER, lb = 0, name=\"x\")\n",
    "\n",
    "# Objective function\n",
    "# Minimize the total number of workers employed\n",
    "m.setObjective(\n",
    "    gp.quicksum(x[j] for j in Days), GRB.MINIMIZE )\n",
    "    \n",
    "## Constraints\n",
    "# The required number of workers for each day must be satisfied\n",
    "m.addConstrs(\n",
    "    (gp.quicksum(A[i,j]*x[j] for j in Days) >= b[i] \n",
    "             for i in Days), name = 'Covers')\n",
    "\n",
    "# Save model for inspection/debugging\n",
    "# m.write('Workforce.lp')"
   ]
  },
  {
   "cell_type": "code",
   "execution_count": null,
   "id": "d975fea3-208f-4bf6-80ae-06bbeb91b4ab",
   "metadata": {},
   "outputs": [],
   "source": [
    "# Solve the model\n",
    "m.optimize()\n",
    "\n",
    "# Print optimal solutions if found\n",
    "if m.status == GRB.Status.OPTIMAL:\n",
    "    print(\"\\nOptimal Solution:\")\n",
    "    print(f\"Total number of workers = {m.objVal}\")\n",
    "\n",
    "    for d in Days:\n",
    "        print(f\"Number of workers starting on {d} = {x[d].x:4}\")\n"
   ]
  },
  {
   "cell_type": "code",
   "execution_count": null,
   "id": "7777bcb8-d9f4-4fbe-9d54-6d46e25025b2",
   "metadata": {},
   "outputs": [],
   "source": []
  }
 ],
 "metadata": {
  "kernelspec": {
   "display_name": "Python 3 (ipykernel)",
   "language": "python",
   "name": "python3"
  },
  "language_info": {
   "codemirror_mode": {
    "name": "ipython",
    "version": 3
   },
   "file_extension": ".py",
   "mimetype": "text/x-python",
   "name": "python",
   "nbconvert_exporter": "python",
   "pygments_lexer": "ipython3",
   "version": "3.11.7"
  }
 },
 "nbformat": 4,
 "nbformat_minor": 5
}

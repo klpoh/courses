{
 "cells": [
  {
   "cell_type": "code",
   "execution_count": null,
   "id": "f2ab9778-0a98-45a1-8e6c-324c8e830fc5",
   "metadata": {},
   "outputs": [],
   "source": [
    "# 1.2_transportation_winston_gurobi.ipynb\n",
    "import gurobipy as gp\n",
    "from gurobipy import GRB\n",
    "\"\"\" Transportation problem Winston (2024 10 06) \"\"\"\n",
    "\n",
    "# Sets or Indices\n",
    "Plants = ['P1','P2','P3']\n",
    "Cities = ['C1','C2','C3','C4']\n",
    "\n",
    "## Data. They can be read from an external file\n",
    "supply_data = [35, 50, 40]\n",
    "demand_data = [45, 20, 30, 30]\n",
    "cost_data  = [[8,  6, 10, 9],\n",
    "               [9, 12, 13, 7],\n",
    "               [14, 9, 16, 5]]\n",
    "\n",
    "## Parameters.\n",
    "num_plants = len(Plants)\n",
    "num_customers = len(Cities)\n",
    "# Dictionaries to enable data to be indexed by plants and cities\n",
    "Supply = { p : s for p, s in zip(Plants, supply_data)}\n",
    "Demand = { c : d for c, d in zip(Cities, demand_data)}\n",
    "Cost = {(p, c): cost_data[i][j] \n",
    "                  for i, p in enumerate(Plants)\n",
    "                  for j, c in enumerate(Cities)}"
   ]
  },
  {
   "cell_type": "code",
   "execution_count": null,
   "id": "473a9cf0-c011-4429-8790-5d8c65716345",
   "metadata": {},
   "outputs": [],
   "source": [
    "## Model\n",
    "m = gp.Model(\"Transportation Problem Winston Example\")\n",
    "\n",
    "## Decision Variables\n",
    "# x[(i,j)] = quantity shipped from plant i to city j\n",
    "x = m.addVars(Plants, Cities, name=\"x\")\n",
    "\n",
    "# Objective function\n",
    "# Minimize the total cost\n",
    "m.setObjective(\n",
    "    gp.quicksum(x[i,j]*Cost[i,j] for i in Plants for j in Cities),\n",
    "        GRB.MINIMIZE)\n",
    "    \n",
    "## Constraints\n",
    "# Supplies from each plant i are limited by its supply capacity\n",
    "c1 = m.addConstrs(\n",
    "    (gp.quicksum(x[i,j] for j in Cities) <= Supply[i] \n",
    "         for i in Plants), name = 'Supply')\n",
    "\n",
    "# Demands at each city j must be met\n",
    "c2 = m.addConstrs(\n",
    "    (gp.quicksum(x[i,j] for i in Plants) >= Demand[j]\n",
    "         for j in Cities), name = 'Demand')\n",
    "\n",
    "# Save model for inspection/debugging\n",
    "# m.write('Transportation_problem_winston.lp')"
   ]
  },
  {
   "cell_type": "code",
   "execution_count": null,
   "id": "e6729f1d-882b-4d27-9517-b8bf7db34e4d",
   "metadata": {},
   "outputs": [],
   "source": [
    "# Solve the model\n",
    "m.optimize()\n",
    "\n",
    "# Print optimal solutions if found\n",
    "if m.status == GRB.Status.OPTIMAL:\n",
    "    print(\"\\nOptimal Solution:\")\n",
    "    print(f\"Total Costs = {m.objVal}\")\n",
    "\n",
    "    for i in Plants:\n",
    "        for j in Cities:\n",
    "            if x[i,j].x > 0:\n",
    "                print(f\"Transport {x[i,j].x:2.0f} units from {i} to {j}\")"
   ]
  },
  {
   "cell_type": "code",
   "execution_count": null,
   "id": "feb84935-150a-43f6-8e37-3c6ad8ce8d0b",
   "metadata": {},
   "outputs": [],
   "source": []
  }
 ],
 "metadata": {
  "kernelspec": {
   "display_name": "Python 3 (ipykernel)",
   "language": "python",
   "name": "python3"
  },
  "language_info": {
   "codemirror_mode": {
    "name": "ipython",
    "version": 3
   },
   "file_extension": ".py",
   "mimetype": "text/x-python",
   "name": "python",
   "nbconvert_exporter": "python",
   "pygments_lexer": "ipython3",
   "version": "3.11.7"
  }
 },
 "nbformat": 4,
 "nbformat_minor": 5
}

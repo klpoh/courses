{
 "cells": [
  {
   "cell_type": "code",
   "execution_count": null,
   "id": "58413fe2-b5c5-48f1-a6d4-8c1aef1a4eef",
   "metadata": {},
   "outputs": [],
   "source": [
    "# 1.4_transportation_problem_with_fixed_facility_costs_gurobi.py\n",
    "import gurobipy as gp\n",
    "from gurobipy import GRB\n",
    "\"\"\" Transportation Problem with Fixed Facility Costs (2024 09 08)\"\"\"\n",
    "\n",
    "# Sets \n",
    "Facilities = ['F1','F2','F3','F4','F5','F6']\n",
    "Customers  = ['C01','C02','C03','C04','C05','C06','C07','C08','C09','C10']\n",
    "\n",
    "## Data. \n",
    "# Demand of customers\n",
    "demands = [50, 68, 80, 50, 60, 79, 66, 72, 66, 63]\n",
    "\n",
    "# Maximum capacity of facilities\n",
    "capacities = [170, 200, 180, 240, 190, 210 ]\n",
    "# Fixed operating cost of facilities\n",
    "fixed_costs= [1000, 1200, 800, 1300, 900, 1100 ]\n",
    "# Unit transportation cost from facility to customer\n",
    "transp_costs = [[4,   7, 14, 14, 13,  7, 4, 12, 7,  7],\n",
    "                [6,   5,  5, 12, 15, 14, 12, 9, 7, 10],\n",
    "                [13, 12,  3,  6, 11, 13,  9, 5, 8,  9],\n",
    "                [10, 13, 11,  7,  3,  8, 11, 9, 12, 8],\n",
    "                [6,   7,  9, 10, 10,  7,  7, 7, 7,  2],\n",
    "                [10,  9,  8, 10, 12, 11,  7, 7, 3, 10]]\n",
    "\n",
    "## Parameters \n",
    "# Convert data structure to dictionaries\n",
    "f = { cost: fixed_costs[i] for i, cost in enumerate(Facilities)}\n",
    "s = { cap: capacities[i] for i, cap in enumerate(Facilities)}\n",
    "d = { dem: demands[i] for i, dem in enumerate(Customers)}\n",
    "c = {(fac, cus): transp_costs[i][j] \n",
    "         for i, fac in enumerate(Facilities)\n",
    "                for j, cus in enumerate(Customers)}\n"
   ]
  },
  {
   "cell_type": "code",
   "execution_count": null,
   "id": "a64bd039-605d-41bc-baad-f28550b2a761",
   "metadata": {},
   "outputs": [],
   "source": [
    "## Model\n",
    "m = gp.Model(\"transportation problem with fixed facility costs\")\n",
    "\n",
    "## Decision Variables\n",
    "# y[i,j] = quantity shipped from facility i to customer j\n",
    "y = m.addVars(Facilities, Customers, name=\"y\")\n",
    "\n",
    "# x[i] = 1 if facility i is selected, = 0 otherwise\n",
    "x = m.addVars(Facilities, vtype=GRB.BINARY, name=\"x\")\n",
    "\n",
    "# Objective function\n",
    "# Minimize the total fixed cost + transportation cost\n",
    "m.setObjective(\n",
    "    gp.quicksum(f[i]*x[i] for i in Facilities) + \\\n",
    "    gp.quicksum(c[i,j]*y[i,j] for i in Facilities for j in Customers),\n",
    "        GRB.MINIMIZE)\n",
    "    \n",
    "## Constraints\n",
    "m.addConstrs(\n",
    "    (gp.quicksum(y[i,j] for i in Facilities) >= d[j] \n",
    "         for j in Customers), name = 'Demand')\n",
    "m.addConstrs(\n",
    "    (gp.quicksum(y[i,j] for j in Customers) <= s[i]*x[i] \n",
    "         for i in Facilities), name = 'Capacity')"
   ]
  },
  {
   "cell_type": "code",
   "execution_count": null,
   "id": "d13a080b-e5f5-4ff8-9eec-23162dd58187",
   "metadata": {},
   "outputs": [],
   "source": [
    "# Solve the model\n",
    "# m.Params.OutputFlag = 0\n",
    "m.optimize()\n",
    "if m.status == GRB.Status.OPTIMAL:\n",
    "    print(\"Optimal Solution:\")\n",
    "    print(f\"  Min cost = {m.objVal}\")\n",
    "    for i in Facilities:\n",
    "        if x[i].x == 1:\n",
    "         print(f\"  Use Facility {i}:\")\n",
    "         for j in Customers:\n",
    "             if y[i, j].x > 0:\n",
    "                 print(f\"    Ship {y[i,j].x:.2f} to customer {j}\") \n"
   ]
  },
  {
   "cell_type": "code",
   "execution_count": null,
   "id": "0c3c421a-0ceb-4e69-909a-62c9bd9752db",
   "metadata": {},
   "outputs": [],
   "source": []
  }
 ],
 "metadata": {
  "kernelspec": {
   "display_name": "Python 3 (ipykernel)",
   "language": "python",
   "name": "python3"
  },
  "language_info": {
   "codemirror_mode": {
    "name": "ipython",
    "version": 3
   },
   "file_extension": ".py",
   "mimetype": "text/x-python",
   "name": "python",
   "nbconvert_exporter": "python",
   "pygments_lexer": "ipython3",
   "version": "3.11.7"
  }
 },
 "nbformat": 4,
 "nbformat_minor": 5
}

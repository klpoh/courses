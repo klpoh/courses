{
 "cells": [
  {
   "cell_type": "code",
   "execution_count": null,
   "id": "b66d0fb8-c992-48e6-94af-fcc94a9bec9a",
   "metadata": {},
   "outputs": [],
   "source": [
    "# 1.4_facility_loc_set_covering_gurobi.ipynb\n",
    "import gurobipy as gp\n",
    "from gurobipy import GRB\n",
    "\"\"\" Facility Location Set Covering (2024 10 06) \"\"\"\n",
    "\n",
    "# Sets or Indices\n",
    "Nodes = ['S1', 'S2', 'S3', 'S4', 'S5', 'S6']\n",
    "\n",
    "# Data\n",
    "dist_data = [[0, 10, 20, 30, 30, 20],\n",
    "             [10, 0, 25, 35, 20, 10],\n",
    "             [20, 25, 0, 15, 30, 20], \n",
    "             [30, 35, 15, 0, 15, 25],\n",
    "             [30, 20, 30, 15, 0, 14],\n",
    "             [20, 10, 20, 25, 14, 0]]\n",
    "\n",
    "Cover_dist = 15\n",
    "\n",
    "# Data dictionaries\n",
    "# dist[i,j] = distance between node i and node j\n",
    "dist = {(n1,n2): dist_data[i][j] \n",
    "            for i, n1 in enumerate(Nodes)\n",
    "                for j, n2 in enumerate(Nodes) }\n",
    "\n",
    "# covered[i,j] = 1 if dist[i,j] <= Cover_dist; = 0 otherwise.\n",
    "covered = {k: 1 if dist[k] <= Cover_dist else 0 for k in dist.keys() }"
   ]
  },
  {
   "cell_type": "code",
   "execution_count": null,
   "id": "c72b3c5d-ad52-4d1d-8d1b-4fd64cb5c209",
   "metadata": {},
   "outputs": [],
   "source": [
    "# Model\n",
    "m = gp.Model('Facility_location_set_covering')\n",
    "\n",
    "# Decision Variables\n",
    "x = m.addVars(Nodes, vtype=GRB.BINARY, name=\"x\")\n",
    "\n",
    "# The objective is to minimize the total number of locations selected\n",
    "m.setObjective(gp.quicksum(x[i] for i in Nodes), GRB.MINIMIZE)\n",
    "\n",
    "# Constraints\n",
    "c1 = m.addConstrs(\n",
    "    (gp.quicksum(covered[i,j]*x[j] for j in Nodes) >= 1 for i in Nodes),\n",
    "        name = 'Cover')\n",
    "\n",
    "# Save model\n",
    "# m.write('Facility_location_set_covering.lp')"
   ]
  },
  {
   "cell_type": "code",
   "execution_count": null,
   "id": "3fcf97f8-916a-4cff-8d95-79aa3f42b1b7",
   "metadata": {},
   "outputs": [],
   "source": [
    "# Compute optimal solution\n",
    "m.optimize()\n",
    "\n",
    "# Print optimal solutions if found\n",
    "if m.status == GRB.Status.OPTIMAL:\n",
    "    print(f\"\\nNumber of locations selected = {m.objVal}\")\n",
    "    for i in Nodes:\n",
    "        if x[i].x == 1:\n",
    "            print(f\"  Select location {i}\")"
   ]
  },
  {
   "cell_type": "code",
   "execution_count": null,
   "id": "922c1342-8a99-4d35-bb14-e8c5b52e9c63",
   "metadata": {},
   "outputs": [],
   "source": []
  }
 ],
 "metadata": {
  "kernelspec": {
   "display_name": "Python 3 (ipykernel)",
   "language": "python",
   "name": "python3"
  },
  "language_info": {
   "codemirror_mode": {
    "name": "ipython",
    "version": 3
   },
   "file_extension": ".py",
   "mimetype": "text/x-python",
   "name": "python",
   "nbconvert_exporter": "python",
   "pygments_lexer": "ipython3",
   "version": "3.11.7"
  }
 },
 "nbformat": 4,
 "nbformat_minor": 5
}

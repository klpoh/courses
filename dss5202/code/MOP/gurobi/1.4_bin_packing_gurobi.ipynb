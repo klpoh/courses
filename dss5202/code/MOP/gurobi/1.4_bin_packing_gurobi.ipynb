{
 "cells": [
  {
   "cell_type": "code",
   "execution_count": null,
   "id": "7222b115-d804-40eb-bcc7-afe8a552f207",
   "metadata": {},
   "outputs": [],
   "source": [
    "# 1.4_bin_packing_gurobi.ipynb\n",
    "import gurobipy as gp\n",
    "from gurobipy import GRB\n",
    "\"\"\" Bin Packing Problem Gurobi (2024 10 06) \"\"\"\n",
    "\n",
    "# Sets\n",
    "Items = range(1, 10)\n",
    "Bins = range(1, 10)\n",
    "\n",
    "# Data\n",
    "Sizes = [0.5, 0.7, 0.5, 0.2, 0.4, 0.2, 0.5, 0.1, 0.6]\n",
    "\n",
    "# Parameters\n",
    "s = { item : size for item, size in zip(Items, Sizes) }\n"
   ]
  },
  {
   "cell_type": "code",
   "execution_count": null,
   "id": "6fa5bf37-cafb-4268-aa71-ebbd80ffaf7e",
   "metadata": {},
   "outputs": [],
   "source": [
    "## Model\n",
    "m = gp.Model('BPP')\n",
    "\n",
    "## Decision Variables\n",
    "x = m.addVars(Items, Bins, vtype=GRB.BINARY, name='x')\n",
    "y = m.addVars(Bins, vtype=GRB.BINARY, name='y')\n",
    "\n",
    "# Objective function\n",
    "m.setObjective(\n",
    "    gp.quicksum(y[j] for j in Bins), GRB.MINIMIZE)\n",
    "    \n",
    "## Constraints\n",
    "m.addConstrs(\n",
    "    (gp.quicksum(x[i,j]*s[i] for i in Items) <= y[j] \n",
    "         for j in Bins), name='Capacity')\n",
    "\n",
    "m.addConstrs(\n",
    "    (gp.quicksum(x[i,j] for j in Bins) == 1 \n",
    "         for i in Items), name='Assign')\n",
    "\n",
    "# Save model for inspection/debugging\n",
    "# m.write('BPP.lp')"
   ]
  },
  {
   "cell_type": "code",
   "execution_count": null,
   "id": "e1914e3f-7b08-449e-9285-9f8d9bcd41bc",
   "metadata": {},
   "outputs": [],
   "source": [
    "# Solve the model\n",
    "m.optimize()\n",
    "\n",
    "# Print optimal solutions if found\n",
    "if m.status == GRB.Status.OPTIMAL:\n",
    "    print(\"\\nOptimal Solution:\")\n",
    "    print(f\"Obj Value = {m.objVal} bins\")\n",
    "\n",
    "    k = 0\n",
    "    for j in Bins:\n",
    "        if y[j].x == 1:\n",
    "            k +=1\n",
    "            print(f\"Bin {k}:\")\n",
    "            for i in Items:\n",
    "                if x[i,j].x == 1:\n",
    "                    print(f\" Item {i} ({s[i]})\")\n",
    "    "
   ]
  },
  {
   "cell_type": "code",
   "execution_count": null,
   "id": "e5ddc062-660e-4714-a551-a11b00955f50",
   "metadata": {},
   "outputs": [],
   "source": []
  }
 ],
 "metadata": {
  "kernelspec": {
   "display_name": "Python 3 (ipykernel)",
   "language": "python",
   "name": "python3"
  },
  "language_info": {
   "codemirror_mode": {
    "name": "ipython",
    "version": 3
   },
   "file_extension": ".py",
   "mimetype": "text/x-python",
   "name": "python",
   "nbconvert_exporter": "python",
   "pygments_lexer": "ipython3",
   "version": "3.11.7"
  }
 },
 "nbformat": 4,
 "nbformat_minor": 5
}

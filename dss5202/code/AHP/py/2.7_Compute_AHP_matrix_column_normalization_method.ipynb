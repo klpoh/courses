{
 "cells": [
  {
   "cell_type": "code",
   "execution_count": 1,
   "id": "binary-extreme",
   "metadata": {},
   "outputs": [],
   "source": [
    "\"\"\" Compute AHP matrix using column normalization approximation method \"\"\"\n",
    "\"\"\" This method is fast but not very accurate; Use the RGM method instead \"\"\"\n",
    "import numpy as np"
   ]
  },
  {
   "cell_type": "code",
   "execution_count": 2,
   "id": "printable-brave",
   "metadata": {},
   "outputs": [],
   "source": [
    "A = np.array([[1, 1/3, 1/2],\n",
    "              [3,  1,   3 ],\n",
    "              [2, 1/3,  1 ]])"
   ]
  },
  {
   "cell_type": "code",
   "execution_count": 3,
   "id": "opening-captain",
   "metadata": {},
   "outputs": [
    {
     "name": "stdout",
     "output_type": "stream",
     "text": [
      "w = [0.15925926 0.58888889 0.25185185]\n"
     ]
    }
   ],
   "source": [
    "# Normalize each column of A, then average across each row.\n",
    "w = (A/A.sum(axis=0)).mean(axis=1)\n",
    "print(f\"w = {w}\")"
   ]
  },
  {
   "cell_type": "code",
   "execution_count": 4,
   "id": "activated-oxygen",
   "metadata": {},
   "outputs": [
    {
     "name": "stdout",
     "output_type": "stream",
     "text": [
      "lambda_max= 3.053904, CI = 0.026952, CR= 0.046469\n"
     ]
    }
   ],
   "source": [
    "# Estimate lambda_max using all rows\n",
    "lambda_max = (np.dot(A,w)/w).mean()\n",
    "n, _ = A.shape\n",
    "CI = (lambda_max-n)/(n-1)\n",
    "CR = CI/0.58\n",
    "print(f\"lambda_max= {lambda_max:.6f}, CI = {CI:.6f}, CR= {CR:.6f}\")"
   ]
  },
  {
   "cell_type": "code",
   "execution_count": null,
   "id": "boring-joining",
   "metadata": {},
   "outputs": [],
   "source": []
  }
 ],
 "metadata": {
  "kernelspec": {
   "display_name": "Python 3 (ipykernel)",
   "language": "python",
   "name": "python3"
  },
  "language_info": {
   "codemirror_mode": {
    "name": "ipython",
    "version": 3
   },
   "file_extension": ".py",
   "mimetype": "text/x-python",
   "name": "python",
   "nbconvert_exporter": "python",
   "pygments_lexer": "ipython3",
   "version": "3.10.10"
  }
 },
 "nbformat": 4,
 "nbformat_minor": 5
}

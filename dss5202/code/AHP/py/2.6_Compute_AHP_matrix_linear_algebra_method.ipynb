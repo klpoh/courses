{
 "cells": [
  {
   "cell_type": "code",
   "execution_count": 1,
   "id": "promotional-contest",
   "metadata": {},
   "outputs": [],
   "source": [
    "\"\"\" Compute AHP matrix using linear algebra method \"\"\"\n",
    "import numpy as np\n",
    "from scipy.optimize import root"
   ]
  },
  {
   "cell_type": "code",
   "execution_count": 2,
   "id": "worse-straight",
   "metadata": {},
   "outputs": [],
   "source": [
    "A = np.array([[1, 1/3, 1/2],\n",
    "              [3,  1,   3 ],\n",
    "              [2, 1/3,  1 ]])\n",
    "\n",
    "n, _ = A.shape   # Number of elements\n",
    "I = np.eye(n)    # Identity matrix"
   ]
  },
  {
   "cell_type": "code",
   "execution_count": 3,
   "id": "spanish-vegetarian",
   "metadata": {},
   "outputs": [
    {
     "name": "stdout",
     "output_type": "stream",
     "text": [
      "lambda_max = 3.053622\n"
     ]
    }
   ],
   "source": [
    "# Find lambda_max by finding root of the determinant equation\n",
    "eq = lambda y: np.linalg.det(A-I*y)\n",
    "sol = root(eq, x0=n, options={'xtol':1e-12})\n",
    "lambda_max = sol.x[0]\n",
    "print(f\"lambda_max = {lambda_max:.6f}\") "
   ]
  },
  {
   "cell_type": "code",
   "execution_count": 4,
   "id": "fitted-arkansas",
   "metadata": {},
   "outputs": [
    {
     "name": "stdout",
     "output_type": "stream",
     "text": [
      "w = [0.15705579 0.59363369 0.24931053]\n"
     ]
    }
   ],
   "source": [
    "# Find w by solving a set of linear equations M w = b\n",
    "M = A - I*lambda_max   # M = A - lambda_max I for first n-1 rows\n",
    "M[n-1] = np.ones(n)    # Replace the last row with [1, 1..., 1]\n",
    "b = np.append(np.zeros(n-1), [1])  # b = [0, 0, ..., 1]\n",
    "w = np.linalg.solve(M,b)\n",
    "print(f\"w = {w}\")"
   ]
  },
  {
   "cell_type": "code",
   "execution_count": 5,
   "id": "unlikely-arrangement",
   "metadata": {},
   "outputs": [
    {
     "name": "stdout",
     "output_type": "stream",
     "text": [
      "CI= 0.026811, CR= 0.046225\n"
     ]
    }
   ],
   "source": [
    "# Compute CI and CR\n",
    "CI = (lambda_max-n)/(n-1)\n",
    "CR = CI/0.58    # RI = 0.58 for n = 3\n",
    "print(f\"CI= {CI:.6f}, CR= {CR:.6f}\")"
   ]
  },
  {
   "cell_type": "code",
   "execution_count": null,
   "id": "irish-atlanta",
   "metadata": {},
   "outputs": [],
   "source": []
  }
 ],
 "metadata": {
  "kernelspec": {
   "display_name": "Python 3 (ipykernel)",
   "language": "python",
   "name": "python3"
  },
  "language_info": {
   "codemirror_mode": {
    "name": "ipython",
    "version": 3
   },
   "file_extension": ".py",
   "mimetype": "text/x-python",
   "name": "python",
   "nbconvert_exporter": "python",
   "pygments_lexer": "ipython3",
   "version": "3.10.10"
  }
 },
 "nbformat": 4,
 "nbformat_minor": 5
}

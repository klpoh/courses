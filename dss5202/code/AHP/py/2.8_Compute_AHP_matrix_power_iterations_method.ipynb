{
 "cells": [
  {
   "cell_type": "code",
   "execution_count": 1,
   "id": "hearing-denmark",
   "metadata": {},
   "outputs": [],
   "source": [
    "\"\"\" Compute AHP matrix using power iterations method \"\"\"\n",
    "import numpy as np\n",
    "from scipy.stats import gmean"
   ]
  },
  {
   "cell_type": "code",
   "execution_count": 2,
   "id": "announced-pearl",
   "metadata": {},
   "outputs": [],
   "source": [
    "A = np.array([[1, 1/3, 1/2],\n",
    "              [3,  1,   3 ],\n",
    "              [2, 1/3,  1 ]])"
   ]
  },
  {
   "cell_type": "code",
   "execution_count": 3,
   "id": "informed-tsunami",
   "metadata": {},
   "outputs": [],
   "source": [
    "# Initial solution:\n",
    "#   Use RGM approximation as starting solution.\n",
    "gm = gmean(A, axis=1)  \n",
    "w = gm/gm.sum()\n",
    "#   Use column normalization. More iterations needed\n",
    "# w = (A/A.sum(axis=0)).mean(axis=1)"
   ]
  },
  {
   "cell_type": "code",
   "execution_count": 4,
   "id": "removed-object",
   "metadata": {},
   "outputs": [
    {
     "name": "stdout",
     "output_type": "stream",
     "text": [
      "Tolerance 1e-16 achieved at iter #2\n",
      "w = [0.15705579 0.59363369 0.24931053]\n"
     ]
    }
   ],
   "source": [
    "# Perform Power Iterations\n",
    "max_iter= 1000000\n",
    "epsilon = 1.E-16\n",
    "for iter in range(max_iter):\n",
    "    w1 = np.dot(A,w)    # w(k+1) = A w(k) \n",
    "    w1 = w1/w1.sum()    # normalize w(k+1)\n",
    "    if all(np.absolute(w1-w) < epsilon):\n",
    "        w = w1\n",
    "        print(f\"Tolerance {epsilon} achieved at iter #{iter}\")\n",
    "        break\n",
    "    w = w1\n",
    "print(f\"w = {w}\")"
   ]
  },
  {
   "cell_type": "code",
   "execution_count": 5,
   "id": "settled-basket",
   "metadata": {},
   "outputs": [
    {
     "name": "stdout",
     "output_type": "stream",
     "text": [
      "lambda_max= 3.053622, CI= 0.026811, CR= 0.046225\n"
     ]
    }
   ],
   "source": [
    "lambda_max = (np.dot(A,w)/w).mean()\n",
    "n, _ = A.shape\n",
    "CI = (lambda_max-n)/(n-1)\n",
    "CR =  CI/0.58\n",
    "print(f\"lambda_max= {lambda_max:.6f}, CI= {CI:.6f}, CR= {CR:.6f}\")"
   ]
  },
  {
   "cell_type": "code",
   "execution_count": null,
   "id": "greenhouse-defeat",
   "metadata": {},
   "outputs": [],
   "source": []
  }
 ],
 "metadata": {
  "kernelspec": {
   "display_name": "Python 3 (ipykernel)",
   "language": "python",
   "name": "python3"
  },
  "language_info": {
   "codemirror_mode": {
    "name": "ipython",
    "version": 3
   },
   "file_extension": ".py",
   "mimetype": "text/x-python",
   "name": "python",
   "nbconvert_exporter": "python",
   "pygments_lexer": "ipython3",
   "version": "3.10.10"
  }
 },
 "nbformat": 4,
 "nbformat_minor": 5
}

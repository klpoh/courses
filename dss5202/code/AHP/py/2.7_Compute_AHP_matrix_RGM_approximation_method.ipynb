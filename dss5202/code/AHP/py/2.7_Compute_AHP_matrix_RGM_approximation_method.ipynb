{
 "cells": [
  {
   "cell_type": "code",
   "execution_count": 1,
   "id": "phantom-stupid",
   "metadata": {},
   "outputs": [],
   "source": [
    "\"\"\" Compute AHP matrix using Row Geometric Mean approximation method \"\"\"\n",
    "import numpy as np\n",
    "from scipy.stats import gmean"
   ]
  },
  {
   "cell_type": "code",
   "execution_count": 2,
   "id": "objective-basketball",
   "metadata": {},
   "outputs": [],
   "source": [
    "A = np.array([[ 1, 1/3, 1/2],\n",
    "              [ 3,  1,   3 ],\n",
    "              [ 2, 1/3,  1 ]] )"
   ]
  },
  {
   "cell_type": "code",
   "execution_count": 3,
   "id": "broadband-necklace",
   "metadata": {},
   "outputs": [
    {
     "name": "stdout",
     "output_type": "stream",
     "text": [
      "w = [0.15705579 0.59363369 0.24931053]\n"
     ]
    }
   ],
   "source": [
    "# Compute the geometric mean of each row, then normalize it.\n",
    "rgm = gmean(A, axis=1)   \n",
    "w = rgm/rgm.sum()\n",
    "print(f\"w = {w}\")"
   ]
  },
  {
   "cell_type": "code",
   "execution_count": 4,
   "id": "running-edition",
   "metadata": {},
   "outputs": [
    {
     "name": "stdout",
     "output_type": "stream",
     "text": [
      "lambda_max= 3.053622, CI= 0.026811, CR= 0.046225\n"
     ]
    }
   ],
   "source": [
    "# Estimate lambda_max using all rows\n",
    "lambda_max = (np.dot(A,w)/w).mean()\n",
    "n, _ = A.shape\n",
    "CI = (lambda_max-n)/(n-1)\n",
    "CR = CI/0.58\n",
    "print(f\"lambda_max= {lambda_max:.6f}, CI= {CI:.6f}, CR= {CR:.6f}\")"
   ]
  },
  {
   "cell_type": "code",
   "execution_count": null,
   "id": "vanilla-gnome",
   "metadata": {},
   "outputs": [],
   "source": []
  }
 ],
 "metadata": {
  "kernelspec": {
   "display_name": "Python 3 (ipykernel)",
   "language": "python",
   "name": "python3"
  },
  "language_info": {
   "codemirror_mode": {
    "name": "ipython",
    "version": 3
   },
   "file_extension": ".py",
   "mimetype": "text/x-python",
   "name": "python",
   "nbconvert_exporter": "python",
   "pygments_lexer": "ipython3",
   "version": "3.10.10"
  }
 },
 "nbformat": 4,
 "nbformat_minor": 5
}

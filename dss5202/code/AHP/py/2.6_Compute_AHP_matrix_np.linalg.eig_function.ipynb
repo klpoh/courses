{
 "cells": [
  {
   "cell_type": "code",
   "execution_count": 1,
   "id": "8af07c6f",
   "metadata": {},
   "outputs": [],
   "source": [
    "\"\"\" Compute AHP matrix using np.linalg.eig function \"\"\"\n",
    "import numpy as np"
   ]
  },
  {
   "cell_type": "code",
   "execution_count": 2,
   "id": "442f1d64",
   "metadata": {},
   "outputs": [],
   "source": [
    "A = np.array([[1, 1/3, 1/2],\n",
    "              [3,  1,   3 ],\n",
    "              [2, 1/3,  1 ]])"
   ]
  },
  {
   "cell_type": "code",
   "execution_count": 3,
   "id": "528d336a",
   "metadata": {},
   "outputs": [
    {
     "name": "stdout",
     "output_type": "stream",
     "text": [
      "lambda_max = 3.053622\n",
      "w = [0.15705579 0.59363369 0.24931053]\n"
     ]
    }
   ],
   "source": [
    "# Compute all the eigenvalues and eigenvectors\n",
    "eigVal, eigVec = np.linalg.eig(A)\n",
    "\n",
    "# Get the dominant real eigenvalue and its eigenvector\n",
    "lambda_max, w = max([(val.real, vec.real) for val, vec \n",
    "                     in zip(eigVal, eigVec.T) if np.isreal(val)])\n",
    "w = w/w.sum()  # Normalize w. Can idealize also.\n",
    "print(f\"lambda_max = {lambda_max:.6f}\")\n",
    "print(f\"w = {w}\")"
   ]
  },
  {
   "cell_type": "code",
   "execution_count": 4,
   "id": "addc9e4e",
   "metadata": {},
   "outputs": [
    {
     "name": "stdout",
     "output_type": "stream",
     "text": [
      "CI = 0.026811, CR = 0.046225\n"
     ]
    }
   ],
   "source": [
    "n, _ = A.shape \n",
    "CI = (lambda_max - n)/(n - 1)\n",
    "CR = CI/0.58  # RI for size 3 is 0.58\n",
    "print(f\"CI = {CI:.6f}, CR = {CR:.6f}\")"
   ]
  },
  {
   "cell_type": "code",
   "execution_count": null,
   "id": "fbe67a09",
   "metadata": {},
   "outputs": [],
   "source": []
  }
 ],
 "metadata": {
  "kernelspec": {
   "display_name": "Python 3 (ipykernel)",
   "language": "python",
   "name": "python3"
  },
  "language_info": {
   "codemirror_mode": {
    "name": "ipython",
    "version": 3
   },
   "file_extension": ".py",
   "mimetype": "text/x-python",
   "name": "python",
   "nbconvert_exporter": "python",
   "pygments_lexer": "ipython3",
   "version": "3.10.10"
  }
 },
 "nbformat": 4,
 "nbformat_minor": 5
}
